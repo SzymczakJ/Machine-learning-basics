{
  "cells": [
    {
      "cell_type": "markdown",
      "metadata": {
        "id": "KqQjOrJavsnR"
      },
      "source": [
        "# Metody oparte o sąsiedztwo"
      ]
    },
    {
      "cell_type": "markdown",
      "metadata": {
        "id": "F8o0vaE7vsnS"
      },
      "source": [
        "## Konfiguracja"
      ]
    },
    {
      "cell_type": "markdown",
      "metadata": {
        "id": "Qhg6HiyVvsnT"
      },
      "source": [
        "Laboratorium składa się z 2 części:\n",
        "1. kNN w uczeniu nadzorowanym\n",
        "2. Wyszukiwanie\n",
        "\n",
        "W pierwszej części użyjemy standardowych bibliotek oraz dodatkowo:\n",
        "- `pynndescent` dla approximate nearest neighbors (ANN)\n",
        "- `pyarrow` do odczytu zbioru danych w formacie Parquet\n",
        "\n",
        "W drugiej części natomiast do wektoryzacji obiektów użyjemy stosu do uczenia głębokiego opartego o PyTorcha i torchvision. Dodatkowo użyjemy:\n",
        "- `sentence-transformers` - podobna do popularnej biblioteki Transformers, ale obsługuje głównie modele do uczenia nienadzorowanego, niewymagające fine-tuningu\n",
        "- `tqdm` dla wyświetlania progress bar\n",
        "\n",
        "**Uwaga:** trzeba użyć wersji Numpy'a 1.23.X, bo wersja 1.24 wprowadziła dużo breaking changes i inne biblioteki (np. PyNNDescent) jeszcze nie są zaktualizowane.\n",
        "\n",
        "PyTorcha i torchvision zainstaluj [w wersji odpowiedniej dla twojego systemu i środowiska](https://pytorch.org/get-started/locally/). GPU nie będzie nam potrzebne, ale możesz go użyć, jeżeli jest odpowiednio skonfigurowane."
      ]
    },
    {
      "cell_type": "code",
      "execution_count": null,
      "metadata": {
        "scrolled": true,
        "colab": {
          "base_uri": "https://localhost:8080/"
        },
        "id": "Yi_RGe3qvsnU",
        "outputId": "5bff231f-3895-438c-e2f2-0b233a162b33"
      },
      "outputs": [
        {
          "output_type": "stream",
          "name": "stdout",
          "text": [
            "Looking in indexes: https://pypi.org/simple, https://us-python.pkg.dev/colab-wheels/public/simple/\n",
            "Requirement already satisfied: numpy==1.23.5 in /usr/local/lib/python3.9/dist-packages (1.23.5)\n",
            "Requirement already satisfied: pandas in /usr/local/lib/python3.9/dist-packages (1.4.4)\n",
            "Requirement already satisfied: matplotlib in /usr/local/lib/python3.9/dist-packages (3.7.1)\n",
            "Requirement already satisfied: scikit-learn in /usr/local/lib/python3.9/dist-packages (1.2.2)\n",
            "Requirement already satisfied: missingno in /usr/local/lib/python3.9/dist-packages (0.5.2)\n",
            "Requirement already satisfied: pyarrow in /usr/local/lib/python3.9/dist-packages (9.0.0)\n",
            "Requirement already satisfied: pynndescent in /usr/local/lib/python3.9/dist-packages (0.5.8)\n",
            "Requirement already satisfied: sentence-transformers in /usr/local/lib/python3.9/dist-packages (2.2.2)\n",
            "Requirement already satisfied: tqdm in /usr/local/lib/python3.9/dist-packages (4.65.0)\n",
            "Requirement already satisfied: pytz>=2020.1 in /usr/local/lib/python3.9/dist-packages (from pandas) (2022.7.1)\n",
            "Requirement already satisfied: python-dateutil>=2.8.1 in /usr/local/lib/python3.9/dist-packages (from pandas) (2.8.2)\n",
            "Requirement already satisfied: pyparsing>=2.3.1 in /usr/local/lib/python3.9/dist-packages (from matplotlib) (3.0.9)\n",
            "Requirement already satisfied: cycler>=0.10 in /usr/local/lib/python3.9/dist-packages (from matplotlib) (0.11.0)\n",
            "Requirement already satisfied: kiwisolver>=1.0.1 in /usr/local/lib/python3.9/dist-packages (from matplotlib) (1.4.4)\n",
            "Requirement already satisfied: packaging>=20.0 in /usr/local/lib/python3.9/dist-packages (from matplotlib) (23.0)\n",
            "Requirement already satisfied: importlib-resources>=3.2.0 in /usr/local/lib/python3.9/dist-packages (from matplotlib) (5.12.0)\n",
            "Requirement already satisfied: fonttools>=4.22.0 in /usr/local/lib/python3.9/dist-packages (from matplotlib) (4.39.2)\n",
            "Requirement already satisfied: pillow>=6.2.0 in /usr/local/lib/python3.9/dist-packages (from matplotlib) (8.4.0)\n",
            "Requirement already satisfied: contourpy>=1.0.1 in /usr/local/lib/python3.9/dist-packages (from matplotlib) (1.0.7)\n",
            "Requirement already satisfied: scipy>=1.3.2 in /usr/local/lib/python3.9/dist-packages (from scikit-learn) (1.10.1)\n",
            "Requirement already satisfied: threadpoolctl>=2.0.0 in /usr/local/lib/python3.9/dist-packages (from scikit-learn) (3.1.0)\n",
            "Requirement already satisfied: joblib>=1.1.1 in /usr/local/lib/python3.9/dist-packages (from scikit-learn) (1.1.1)\n",
            "Requirement already satisfied: seaborn in /usr/local/lib/python3.9/dist-packages (from missingno) (0.12.2)\n",
            "Requirement already satisfied: numba>=0.51.2 in /usr/local/lib/python3.9/dist-packages (from pynndescent) (0.56.4)\n",
            "Requirement already satisfied: llvmlite>=0.30 in /usr/local/lib/python3.9/dist-packages (from pynndescent) (0.39.1)\n",
            "Requirement already satisfied: sentencepiece in /usr/local/lib/python3.9/dist-packages (from sentence-transformers) (0.1.97)\n",
            "Requirement already satisfied: torchvision in /usr/local/lib/python3.9/dist-packages (from sentence-transformers) (0.14.1+cu116)\n",
            "Requirement already satisfied: huggingface-hub>=0.4.0 in /usr/local/lib/python3.9/dist-packages (from sentence-transformers) (0.13.3)\n",
            "Requirement already satisfied: nltk in /usr/local/lib/python3.9/dist-packages (from sentence-transformers) (3.8.1)\n",
            "Requirement already satisfied: transformers<5.0.0,>=4.6.0 in /usr/local/lib/python3.9/dist-packages (from sentence-transformers) (4.27.3)\n",
            "Requirement already satisfied: torch>=1.6.0 in /usr/local/lib/python3.9/dist-packages (from sentence-transformers) (1.13.1+cu116)\n",
            "Requirement already satisfied: requests in /usr/local/lib/python3.9/dist-packages (from huggingface-hub>=0.4.0->sentence-transformers) (2.27.1)\n",
            "Requirement already satisfied: filelock in /usr/local/lib/python3.9/dist-packages (from huggingface-hub>=0.4.0->sentence-transformers) (3.10.1)\n",
            "Requirement already satisfied: pyyaml>=5.1 in /usr/local/lib/python3.9/dist-packages (from huggingface-hub>=0.4.0->sentence-transformers) (6.0)\n",
            "Requirement already satisfied: typing-extensions>=3.7.4.3 in /usr/local/lib/python3.9/dist-packages (from huggingface-hub>=0.4.0->sentence-transformers) (4.5.0)\n",
            "Requirement already satisfied: zipp>=3.1.0 in /usr/local/lib/python3.9/dist-packages (from importlib-resources>=3.2.0->matplotlib) (3.15.0)\n",
            "Requirement already satisfied: setuptools in /usr/local/lib/python3.9/dist-packages (from numba>=0.51.2->pynndescent) (67.6.0)\n",
            "Requirement already satisfied: six>=1.5 in /usr/local/lib/python3.9/dist-packages (from python-dateutil>=2.8.1->pandas) (1.16.0)\n",
            "Requirement already satisfied: tokenizers!=0.11.3,<0.14,>=0.11.1 in /usr/local/lib/python3.9/dist-packages (from transformers<5.0.0,>=4.6.0->sentence-transformers) (0.13.2)\n",
            "Requirement already satisfied: regex!=2019.12.17 in /usr/local/lib/python3.9/dist-packages (from transformers<5.0.0,>=4.6.0->sentence-transformers) (2022.10.31)\n",
            "Requirement already satisfied: click in /usr/local/lib/python3.9/dist-packages (from nltk->sentence-transformers) (8.1.3)\n",
            "Requirement already satisfied: certifi>=2017.4.17 in /usr/local/lib/python3.9/dist-packages (from requests->huggingface-hub>=0.4.0->sentence-transformers) (2022.12.7)\n",
            "Requirement already satisfied: idna<4,>=2.5 in /usr/local/lib/python3.9/dist-packages (from requests->huggingface-hub>=0.4.0->sentence-transformers) (3.4)\n",
            "Requirement already satisfied: charset-normalizer~=2.0.0 in /usr/local/lib/python3.9/dist-packages (from requests->huggingface-hub>=0.4.0->sentence-transformers) (2.0.12)\n",
            "Requirement already satisfied: urllib3<1.27,>=1.21.1 in /usr/local/lib/python3.9/dist-packages (from requests->huggingface-hub>=0.4.0->sentence-transformers) (1.26.15)\n"
          ]
        }
      ],
      "source": [
        "!pip install numpy==1.23.5 pandas matplotlib scikit-learn missingno pyarrow pynndescent sentence-transformers tqdm"
      ]
    },
    {
      "cell_type": "code",
      "execution_count": null,
      "metadata": {
        "scrolled": true,
        "colab": {
          "base_uri": "https://localhost:8080/"
        },
        "id": "EsHiGIjQvsnV",
        "outputId": "0bd4461c-6e88-491e-e75a-e2adbcbc612b"
      },
      "outputs": [
        {
          "output_type": "stream",
          "name": "stdout",
          "text": [
            "Looking in indexes: https://pypi.org/simple, https://us-python.pkg.dev/colab-wheels/public/simple/, https://download.pytorch.org/whl/cpu\n",
            "Requirement already satisfied: torch in /usr/local/lib/python3.9/dist-packages (1.13.1+cu116)\n",
            "Requirement already satisfied: torchvision in /usr/local/lib/python3.9/dist-packages (0.14.1+cu116)\n",
            "Requirement already satisfied: typing-extensions in /usr/local/lib/python3.9/dist-packages (from torch) (4.5.0)\n",
            "Requirement already satisfied: pillow!=8.3.*,>=5.3.0 in /usr/local/lib/python3.9/dist-packages (from torchvision) (8.4.0)\n",
            "Requirement already satisfied: numpy in /usr/local/lib/python3.9/dist-packages (from torchvision) (1.23.5)\n",
            "Requirement already satisfied: requests in /usr/local/lib/python3.9/dist-packages (from torchvision) (2.27.1)\n",
            "Requirement already satisfied: certifi>=2017.4.17 in /usr/local/lib/python3.9/dist-packages (from requests->torchvision) (2022.12.7)\n",
            "Requirement already satisfied: idna<4,>=2.5 in /usr/local/lib/python3.9/dist-packages (from requests->torchvision) (3.4)\n",
            "Requirement already satisfied: urllib3<1.27,>=1.21.1 in /usr/local/lib/python3.9/dist-packages (from requests->torchvision) (1.26.15)\n",
            "Requirement already satisfied: charset-normalizer~=2.0.0 in /usr/local/lib/python3.9/dist-packages (from requests->torchvision) (2.0.12)\n"
          ]
        }
      ],
      "source": [
        "!pip install torch torchvision --extra-index-url https://download.pytorch.org/whl/cpu"
      ]
    },
    {
      "cell_type": "code",
      "execution_count": null,
      "metadata": {
        "id": "VdSab-navsnV"
      },
      "outputs": [],
      "source": [
        "import matplotlib.pyplot as plt\n",
        "import numpy as np\n",
        "import pandas as pd"
      ]
    },
    {
      "cell_type": "markdown",
      "metadata": {
        "id": "NRxnSGiCvsnW"
      },
      "source": [
        "## Zbiór danych - klasyfikacja danych numerycznych"
      ]
    },
    {
      "cell_type": "markdown",
      "metadata": {
        "id": "TOCjHPO5vsnW"
      },
      "source": [
        "Wykorzystamy zbiór danych [Codon usage](https://archive.ics.uci.edu/ml/datasets/Codon+usage) z dziedziny bioinformatyki. Został on zaprezentowany w artykule ([link do wersji Open Access](https://www.nature.com/articles/s41598-023-28965-7):\n",
        "\n",
        "Hallee, Logan, and Bohdan B. Khomtchouk. *\"Machine learning classifiers predict key genomic and evolutionary traits across the kingdoms of life.\"* Scientific Reports 13.1 (2023): 2088.\n",
        "\n",
        "Autorzy wykonywali na nim wiele analiz, ale nas interesuje podstawowa - przewidywanie, z jakiego królestwa (kingdom) pochodzi komórka, na podstawie rozkładu kodonów w jej sekwencjonowanym RNA. Analiza DNA oraz RNA jest podstawowym zadaniem bioinformatyki. Kodony (codons) to trójki nukleotydów, np. UGC, i większość zapisuje pewien aminokwas (z wyjątkiem trzech kodonów stopu), który jest wykorzystywany w syntezie białek.\n",
        "\n",
        "Problem jest taki, że w praktyce trzeba sekwencjonować DNA/RNA z wielu komórek, więc trzeba je namnożyć w laboratorium. Niestety nie da się uzyskać idealnej czystości, i zawsze jest szansa, że próbka zostanie zanieczyszczona, np. bakteriami. Wtedy oprócz interesujących nas komórek (np. zwierzęcych) otrzymamy inne, których trzeba się pozbyć przed dalszą analizą. Tutaj właśnie wchodzi ML - dokonamy klasyfikacji, z jakiego królestwa (a właściwie domeny) pochodzi kod RNA, żeby pomóc w takich sytuacjach.\n",
        "\n",
        "Dla uproszczenia, autorzy, zamiast klasyfikować królestwo, klasyfikują [domenę](https://pl.wikipedia.org/wiki/Domena_(biologia)) organizmu. Są to jednostki o poziom wyżej w systematyce taksonomicznej. Do tego dokładamy wirusy i bakteriofagi. Mamy zatem klasy:\n",
        "1. Archaea ([archeony](https://pl.wikipedia.org/wiki/Archeony))\n",
        "2. Bacteria ([bakterie](https://pl.wikipedia.org/wiki/Bakterie))\n",
        "3. Eukariota ([eukarionty](https://pl.wikipedia.org/wiki/Eukarionty)) - między innymi ludzie\n",
        "4. Viruses ([wirusy](https://pl.wikipedia.org/wiki/Wirusy)) - nie są organizmami żywymi, więc nie są częścią typowej taksonomii, ale są ważne w badaniach mikrobiologicznych\n",
        "5. Bacteriophages ([bakteriofagi](https://pl.wikipedia.org/wiki/Bakteriofag)) - rodzaj wirusów atakujących tylko bakterie, używane m.in. [w badaniach nad mikrobiomem jelitowym](https://kids.frontiersin.org/articles/10.3389/frym.2019.00146)\n",
        "\n",
        "Szczegółowy opis zbioru znajduje się [na stronie UCI](https://archive.ics.uci.edu/ml/datasets/Codon+usage). W skrócie:\n",
        "1. `Kingdom` - królestwo, z którego pochodzi komórka. Podział jest tutaj dość szczegółowy, ale organizmy te można pogrupować w praktyce na bakterie (bacteria), wirusy (viruses) i eukarionty (eukariota).\n",
        "2. `DNAtype` - używana w innych analizach w artykule.\n",
        "3. `SpeciesID` - numer gatunku.\n",
        "4. `Ncodons` - liczba kodonów zmierzona dla danej komórki.\n",
        "5. `SpeciesName` - nazwa gatunku.\n",
        "\n",
        "Dalsze kolumny to znormalizowany ułamek kodonów poszczególnych typów w RNA danej komórki. W związku z tym, że dane są już znormalizowane, nie ma potrzeby ich skalowania."
      ]
    },
    {
      "cell_type": "code",
      "execution_count": null,
      "metadata": {
        "id": "Pme5qaubvsnX",
        "colab": {
          "base_uri": "https://localhost:8080/",
          "height": 818
        },
        "outputId": "d535679a-f268-4355-f5bf-d11dbf6d276e"
      },
      "outputs": [
        {
          "output_type": "stream",
          "name": "stdout",
          "text": [
            "Drive already mounted at /content/drive; to attempt to forcibly remount, call drive.mount(\"/content/drive\", force_remount=True).\n"
          ]
        },
        {
          "output_type": "stream",
          "name": "stderr",
          "text": [
            "<ipython-input-4-10a024ae2c33>:4: DtypeWarning: Columns (5,6) have mixed types. Specify dtype option on import or set low_memory=False.\n",
            "  df = pd.read_csv(\"/content/drive/MyDrive/codon_usage.csv\")\n"
          ]
        },
        {
          "output_type": "execute_result",
          "data": {
            "text/plain": [
              "      Kingdom  DNAtype  SpeciesID   Ncodons  \\\n",
              "0         vrl        0     100217      1995   \n",
              "1         vrl        0     100220      1474   \n",
              "2         vrl        0     100755      4862   \n",
              "3         vrl        0     100880      1915   \n",
              "4         vrl        0     100887     22831   \n",
              "...       ...      ...        ...       ...   \n",
              "13023     pri        0       9601      1097   \n",
              "13024     pri        1       9601      2067   \n",
              "13025     pri        1       9602      1686   \n",
              "13026     pri        0       9606  40662582   \n",
              "13027     pri        1       9606   8998998   \n",
              "\n",
              "                                   SpeciesName      UUU      UUC      UUA  \\\n",
              "0      Epizootic haematopoietic necrosis virus  0.01654  0.01203  0.00050   \n",
              "1                             Bohle iridovirus  0.02714  0.01357  0.00068   \n",
              "2                 Sweet potato leaf curl virus  0.01974   0.0218  0.01357   \n",
              "3                 Northern cereal mosaic virus  0.01775  0.02245  0.01619   \n",
              "4               Soil-borne cereal mosaic virus  0.02816  0.01371  0.00767   \n",
              "...                                        ...      ...      ...      ...   \n",
              "13023                    Pongo pygmaeus abelii  0.02552  0.03555  0.00547   \n",
              "13024      mitochondrion Pongo pygmaeus abelii  0.01258  0.03193  0.01984   \n",
              "13025    mitochondrion Pongo pygmaeus pygmaeus  0.01423  0.03321  0.01661   \n",
              "13026                             Homo sapiens  0.01757  0.02028  0.00767   \n",
              "13027               mitochondrion Homo sapiens  0.01778  0.03724  0.01732   \n",
              "\n",
              "           UUG      CUU  ...      CGG      AGA      AGG      GAU      GAC  \\\n",
              "0      0.00351  0.01203  ...  0.00451  0.01303  0.03559  0.01003  0.04612   \n",
              "1      0.00678  0.00407  ...  0.00136  0.01696  0.03596  0.01221  0.04545   \n",
              "2      0.01543  0.00782  ...  0.00596  0.01974  0.02489  0.03126  0.02036   \n",
              "3      0.00992  0.01567  ...  0.00366  0.01410  0.01671  0.03760  0.01932   \n",
              "4      0.03679  0.01380  ...  0.00604  0.01494  0.01734  0.04148  0.02483   \n",
              "...        ...      ...  ...      ...      ...      ...      ...      ...   \n",
              "13023  0.01367  0.01276  ...  0.00820  0.01367  0.01094  0.01367  0.02279   \n",
              "13024  0.00629  0.01451  ...  0.00145  0.00000  0.00048  0.00194  0.01306   \n",
              "13025  0.00356  0.01127  ...  0.00000  0.00000  0.00000  0.00178  0.01661   \n",
              "13026  0.01293  0.01319  ...  0.01142  0.01217  0.01196  0.02178  0.02510   \n",
              "13027  0.00600  0.01689  ...  0.00083  0.00041  0.00041  0.00451  0.01402   \n",
              "\n",
              "           GAA      GAG      UAA      UAG      UGA  \n",
              "0      0.01203  0.04361  0.00251  0.00050  0.00000  \n",
              "1      0.01560  0.04410  0.00271  0.00068  0.00000  \n",
              "2      0.02242  0.02468  0.00391  0.00000  0.00144  \n",
              "3      0.03029  0.03446  0.00261  0.00157  0.00000  \n",
              "4      0.03359  0.03679  0.00000  0.00044  0.00131  \n",
              "...        ...      ...      ...      ...      ...  \n",
              "13023  0.02005  0.04102  0.00091  0.00091  0.00638  \n",
              "13024  0.01838  0.00677  0.00242  0.00097  0.01887  \n",
              "13025  0.02788  0.00297  0.00356  0.00119  0.02017  \n",
              "13026  0.02896  0.03959  0.00099  0.00079  0.00156  \n",
              "13027  0.01651  0.00783  0.00156  0.00114  0.02161  \n",
              "\n",
              "[13028 rows x 69 columns]"
            ],
            "text/html": [
              "\n",
              "  <div id=\"df-f9d95e01-e62d-4248-90e5-b1a492fe3c6e\">\n",
              "    <div class=\"colab-df-container\">\n",
              "      <div>\n",
              "<style scoped>\n",
              "    .dataframe tbody tr th:only-of-type {\n",
              "        vertical-align: middle;\n",
              "    }\n",
              "\n",
              "    .dataframe tbody tr th {\n",
              "        vertical-align: top;\n",
              "    }\n",
              "\n",
              "    .dataframe thead th {\n",
              "        text-align: right;\n",
              "    }\n",
              "</style>\n",
              "<table border=\"1\" class=\"dataframe\">\n",
              "  <thead>\n",
              "    <tr style=\"text-align: right;\">\n",
              "      <th></th>\n",
              "      <th>Kingdom</th>\n",
              "      <th>DNAtype</th>\n",
              "      <th>SpeciesID</th>\n",
              "      <th>Ncodons</th>\n",
              "      <th>SpeciesName</th>\n",
              "      <th>UUU</th>\n",
              "      <th>UUC</th>\n",
              "      <th>UUA</th>\n",
              "      <th>UUG</th>\n",
              "      <th>CUU</th>\n",
              "      <th>...</th>\n",
              "      <th>CGG</th>\n",
              "      <th>AGA</th>\n",
              "      <th>AGG</th>\n",
              "      <th>GAU</th>\n",
              "      <th>GAC</th>\n",
              "      <th>GAA</th>\n",
              "      <th>GAG</th>\n",
              "      <th>UAA</th>\n",
              "      <th>UAG</th>\n",
              "      <th>UGA</th>\n",
              "    </tr>\n",
              "  </thead>\n",
              "  <tbody>\n",
              "    <tr>\n",
              "      <th>0</th>\n",
              "      <td>vrl</td>\n",
              "      <td>0</td>\n",
              "      <td>100217</td>\n",
              "      <td>1995</td>\n",
              "      <td>Epizootic haematopoietic necrosis virus</td>\n",
              "      <td>0.01654</td>\n",
              "      <td>0.01203</td>\n",
              "      <td>0.00050</td>\n",
              "      <td>0.00351</td>\n",
              "      <td>0.01203</td>\n",
              "      <td>...</td>\n",
              "      <td>0.00451</td>\n",
              "      <td>0.01303</td>\n",
              "      <td>0.03559</td>\n",
              "      <td>0.01003</td>\n",
              "      <td>0.04612</td>\n",
              "      <td>0.01203</td>\n",
              "      <td>0.04361</td>\n",
              "      <td>0.00251</td>\n",
              "      <td>0.00050</td>\n",
              "      <td>0.00000</td>\n",
              "    </tr>\n",
              "    <tr>\n",
              "      <th>1</th>\n",
              "      <td>vrl</td>\n",
              "      <td>0</td>\n",
              "      <td>100220</td>\n",
              "      <td>1474</td>\n",
              "      <td>Bohle iridovirus</td>\n",
              "      <td>0.02714</td>\n",
              "      <td>0.01357</td>\n",
              "      <td>0.00068</td>\n",
              "      <td>0.00678</td>\n",
              "      <td>0.00407</td>\n",
              "      <td>...</td>\n",
              "      <td>0.00136</td>\n",
              "      <td>0.01696</td>\n",
              "      <td>0.03596</td>\n",
              "      <td>0.01221</td>\n",
              "      <td>0.04545</td>\n",
              "      <td>0.01560</td>\n",
              "      <td>0.04410</td>\n",
              "      <td>0.00271</td>\n",
              "      <td>0.00068</td>\n",
              "      <td>0.00000</td>\n",
              "    </tr>\n",
              "    <tr>\n",
              "      <th>2</th>\n",
              "      <td>vrl</td>\n",
              "      <td>0</td>\n",
              "      <td>100755</td>\n",
              "      <td>4862</td>\n",
              "      <td>Sweet potato leaf curl virus</td>\n",
              "      <td>0.01974</td>\n",
              "      <td>0.0218</td>\n",
              "      <td>0.01357</td>\n",
              "      <td>0.01543</td>\n",
              "      <td>0.00782</td>\n",
              "      <td>...</td>\n",
              "      <td>0.00596</td>\n",
              "      <td>0.01974</td>\n",
              "      <td>0.02489</td>\n",
              "      <td>0.03126</td>\n",
              "      <td>0.02036</td>\n",
              "      <td>0.02242</td>\n",
              "      <td>0.02468</td>\n",
              "      <td>0.00391</td>\n",
              "      <td>0.00000</td>\n",
              "      <td>0.00144</td>\n",
              "    </tr>\n",
              "    <tr>\n",
              "      <th>3</th>\n",
              "      <td>vrl</td>\n",
              "      <td>0</td>\n",
              "      <td>100880</td>\n",
              "      <td>1915</td>\n",
              "      <td>Northern cereal mosaic virus</td>\n",
              "      <td>0.01775</td>\n",
              "      <td>0.02245</td>\n",
              "      <td>0.01619</td>\n",
              "      <td>0.00992</td>\n",
              "      <td>0.01567</td>\n",
              "      <td>...</td>\n",
              "      <td>0.00366</td>\n",
              "      <td>0.01410</td>\n",
              "      <td>0.01671</td>\n",
              "      <td>0.03760</td>\n",
              "      <td>0.01932</td>\n",
              "      <td>0.03029</td>\n",
              "      <td>0.03446</td>\n",
              "      <td>0.00261</td>\n",
              "      <td>0.00157</td>\n",
              "      <td>0.00000</td>\n",
              "    </tr>\n",
              "    <tr>\n",
              "      <th>4</th>\n",
              "      <td>vrl</td>\n",
              "      <td>0</td>\n",
              "      <td>100887</td>\n",
              "      <td>22831</td>\n",
              "      <td>Soil-borne cereal mosaic virus</td>\n",
              "      <td>0.02816</td>\n",
              "      <td>0.01371</td>\n",
              "      <td>0.00767</td>\n",
              "      <td>0.03679</td>\n",
              "      <td>0.01380</td>\n",
              "      <td>...</td>\n",
              "      <td>0.00604</td>\n",
              "      <td>0.01494</td>\n",
              "      <td>0.01734</td>\n",
              "      <td>0.04148</td>\n",
              "      <td>0.02483</td>\n",
              "      <td>0.03359</td>\n",
              "      <td>0.03679</td>\n",
              "      <td>0.00000</td>\n",
              "      <td>0.00044</td>\n",
              "      <td>0.00131</td>\n",
              "    </tr>\n",
              "    <tr>\n",
              "      <th>...</th>\n",
              "      <td>...</td>\n",
              "      <td>...</td>\n",
              "      <td>...</td>\n",
              "      <td>...</td>\n",
              "      <td>...</td>\n",
              "      <td>...</td>\n",
              "      <td>...</td>\n",
              "      <td>...</td>\n",
              "      <td>...</td>\n",
              "      <td>...</td>\n",
              "      <td>...</td>\n",
              "      <td>...</td>\n",
              "      <td>...</td>\n",
              "      <td>...</td>\n",
              "      <td>...</td>\n",
              "      <td>...</td>\n",
              "      <td>...</td>\n",
              "      <td>...</td>\n",
              "      <td>...</td>\n",
              "      <td>...</td>\n",
              "      <td>...</td>\n",
              "    </tr>\n",
              "    <tr>\n",
              "      <th>13023</th>\n",
              "      <td>pri</td>\n",
              "      <td>0</td>\n",
              "      <td>9601</td>\n",
              "      <td>1097</td>\n",
              "      <td>Pongo pygmaeus abelii</td>\n",
              "      <td>0.02552</td>\n",
              "      <td>0.03555</td>\n",
              "      <td>0.00547</td>\n",
              "      <td>0.01367</td>\n",
              "      <td>0.01276</td>\n",
              "      <td>...</td>\n",
              "      <td>0.00820</td>\n",
              "      <td>0.01367</td>\n",
              "      <td>0.01094</td>\n",
              "      <td>0.01367</td>\n",
              "      <td>0.02279</td>\n",
              "      <td>0.02005</td>\n",
              "      <td>0.04102</td>\n",
              "      <td>0.00091</td>\n",
              "      <td>0.00091</td>\n",
              "      <td>0.00638</td>\n",
              "    </tr>\n",
              "    <tr>\n",
              "      <th>13024</th>\n",
              "      <td>pri</td>\n",
              "      <td>1</td>\n",
              "      <td>9601</td>\n",
              "      <td>2067</td>\n",
              "      <td>mitochondrion Pongo pygmaeus abelii</td>\n",
              "      <td>0.01258</td>\n",
              "      <td>0.03193</td>\n",
              "      <td>0.01984</td>\n",
              "      <td>0.00629</td>\n",
              "      <td>0.01451</td>\n",
              "      <td>...</td>\n",
              "      <td>0.00145</td>\n",
              "      <td>0.00000</td>\n",
              "      <td>0.00048</td>\n",
              "      <td>0.00194</td>\n",
              "      <td>0.01306</td>\n",
              "      <td>0.01838</td>\n",
              "      <td>0.00677</td>\n",
              "      <td>0.00242</td>\n",
              "      <td>0.00097</td>\n",
              "      <td>0.01887</td>\n",
              "    </tr>\n",
              "    <tr>\n",
              "      <th>13025</th>\n",
              "      <td>pri</td>\n",
              "      <td>1</td>\n",
              "      <td>9602</td>\n",
              "      <td>1686</td>\n",
              "      <td>mitochondrion Pongo pygmaeus pygmaeus</td>\n",
              "      <td>0.01423</td>\n",
              "      <td>0.03321</td>\n",
              "      <td>0.01661</td>\n",
              "      <td>0.00356</td>\n",
              "      <td>0.01127</td>\n",
              "      <td>...</td>\n",
              "      <td>0.00000</td>\n",
              "      <td>0.00000</td>\n",
              "      <td>0.00000</td>\n",
              "      <td>0.00178</td>\n",
              "      <td>0.01661</td>\n",
              "      <td>0.02788</td>\n",
              "      <td>0.00297</td>\n",
              "      <td>0.00356</td>\n",
              "      <td>0.00119</td>\n",
              "      <td>0.02017</td>\n",
              "    </tr>\n",
              "    <tr>\n",
              "      <th>13026</th>\n",
              "      <td>pri</td>\n",
              "      <td>0</td>\n",
              "      <td>9606</td>\n",
              "      <td>40662582</td>\n",
              "      <td>Homo sapiens</td>\n",
              "      <td>0.01757</td>\n",
              "      <td>0.02028</td>\n",
              "      <td>0.00767</td>\n",
              "      <td>0.01293</td>\n",
              "      <td>0.01319</td>\n",
              "      <td>...</td>\n",
              "      <td>0.01142</td>\n",
              "      <td>0.01217</td>\n",
              "      <td>0.01196</td>\n",
              "      <td>0.02178</td>\n",
              "      <td>0.02510</td>\n",
              "      <td>0.02896</td>\n",
              "      <td>0.03959</td>\n",
              "      <td>0.00099</td>\n",
              "      <td>0.00079</td>\n",
              "      <td>0.00156</td>\n",
              "    </tr>\n",
              "    <tr>\n",
              "      <th>13027</th>\n",
              "      <td>pri</td>\n",
              "      <td>1</td>\n",
              "      <td>9606</td>\n",
              "      <td>8998998</td>\n",
              "      <td>mitochondrion Homo sapiens</td>\n",
              "      <td>0.01778</td>\n",
              "      <td>0.03724</td>\n",
              "      <td>0.01732</td>\n",
              "      <td>0.00600</td>\n",
              "      <td>0.01689</td>\n",
              "      <td>...</td>\n",
              "      <td>0.00083</td>\n",
              "      <td>0.00041</td>\n",
              "      <td>0.00041</td>\n",
              "      <td>0.00451</td>\n",
              "      <td>0.01402</td>\n",
              "      <td>0.01651</td>\n",
              "      <td>0.00783</td>\n",
              "      <td>0.00156</td>\n",
              "      <td>0.00114</td>\n",
              "      <td>0.02161</td>\n",
              "    </tr>\n",
              "  </tbody>\n",
              "</table>\n",
              "<p>13028 rows × 69 columns</p>\n",
              "</div>\n",
              "      <button class=\"colab-df-convert\" onclick=\"convertToInteractive('df-f9d95e01-e62d-4248-90e5-b1a492fe3c6e')\"\n",
              "              title=\"Convert this dataframe to an interactive table.\"\n",
              "              style=\"display:none;\">\n",
              "        \n",
              "  <svg xmlns=\"http://www.w3.org/2000/svg\" height=\"24px\"viewBox=\"0 0 24 24\"\n",
              "       width=\"24px\">\n",
              "    <path d=\"M0 0h24v24H0V0z\" fill=\"none\"/>\n",
              "    <path d=\"M18.56 5.44l.94 2.06.94-2.06 2.06-.94-2.06-.94-.94-2.06-.94 2.06-2.06.94zm-11 1L8.5 8.5l.94-2.06 2.06-.94-2.06-.94L8.5 2.5l-.94 2.06-2.06.94zm10 10l.94 2.06.94-2.06 2.06-.94-2.06-.94-.94-2.06-.94 2.06-2.06.94z\"/><path d=\"M17.41 7.96l-1.37-1.37c-.4-.4-.92-.59-1.43-.59-.52 0-1.04.2-1.43.59L10.3 9.45l-7.72 7.72c-.78.78-.78 2.05 0 2.83L4 21.41c.39.39.9.59 1.41.59.51 0 1.02-.2 1.41-.59l7.78-7.78 2.81-2.81c.8-.78.8-2.07 0-2.86zM5.41 20L4 18.59l7.72-7.72 1.47 1.35L5.41 20z\"/>\n",
              "  </svg>\n",
              "      </button>\n",
              "      \n",
              "  <style>\n",
              "    .colab-df-container {\n",
              "      display:flex;\n",
              "      flex-wrap:wrap;\n",
              "      gap: 12px;\n",
              "    }\n",
              "\n",
              "    .colab-df-convert {\n",
              "      background-color: #E8F0FE;\n",
              "      border: none;\n",
              "      border-radius: 50%;\n",
              "      cursor: pointer;\n",
              "      display: none;\n",
              "      fill: #1967D2;\n",
              "      height: 32px;\n",
              "      padding: 0 0 0 0;\n",
              "      width: 32px;\n",
              "    }\n",
              "\n",
              "    .colab-df-convert:hover {\n",
              "      background-color: #E2EBFA;\n",
              "      box-shadow: 0px 1px 2px rgba(60, 64, 67, 0.3), 0px 1px 3px 1px rgba(60, 64, 67, 0.15);\n",
              "      fill: #174EA6;\n",
              "    }\n",
              "\n",
              "    [theme=dark] .colab-df-convert {\n",
              "      background-color: #3B4455;\n",
              "      fill: #D2E3FC;\n",
              "    }\n",
              "\n",
              "    [theme=dark] .colab-df-convert:hover {\n",
              "      background-color: #434B5C;\n",
              "      box-shadow: 0px 1px 3px 1px rgba(0, 0, 0, 0.15);\n",
              "      filter: drop-shadow(0px 1px 2px rgba(0, 0, 0, 0.3));\n",
              "      fill: #FFFFFF;\n",
              "    }\n",
              "  </style>\n",
              "\n",
              "      <script>\n",
              "        const buttonEl =\n",
              "          document.querySelector('#df-f9d95e01-e62d-4248-90e5-b1a492fe3c6e button.colab-df-convert');\n",
              "        buttonEl.style.display =\n",
              "          google.colab.kernel.accessAllowed ? 'block' : 'none';\n",
              "\n",
              "        async function convertToInteractive(key) {\n",
              "          const element = document.querySelector('#df-f9d95e01-e62d-4248-90e5-b1a492fe3c6e');\n",
              "          const dataTable =\n",
              "            await google.colab.kernel.invokeFunction('convertToInteractive',\n",
              "                                                     [key], {});\n",
              "          if (!dataTable) return;\n",
              "\n",
              "          const docLinkHtml = 'Like what you see? Visit the ' +\n",
              "            '<a target=\"_blank\" href=https://colab.research.google.com/notebooks/data_table.ipynb>data table notebook</a>'\n",
              "            + ' to learn more about interactive tables.';\n",
              "          element.innerHTML = '';\n",
              "          dataTable['output_type'] = 'display_data';\n",
              "          await google.colab.output.renderOutput(dataTable, element);\n",
              "          const docLink = document.createElement('div');\n",
              "          docLink.innerHTML = docLinkHtml;\n",
              "          element.appendChild(docLink);\n",
              "        }\n",
              "      </script>\n",
              "    </div>\n",
              "  </div>\n",
              "  "
            ]
          },
          "metadata": {},
          "execution_count": 4
        }
      ],
      "source": [
        "from google.colab import drive\n",
        "drive.mount('/content/drive')\n",
        "\n",
        "df = pd.read_csv(\"/content/drive/MyDrive/codon_usage.csv\")\n",
        "df"
      ]
    },
    {
      "cell_type": "markdown",
      "metadata": {
        "id": "EGE03mVFvsnY"
      },
      "source": [
        "Mamy warning co do typu - niedobrze. Sprawdźmy typy:"
      ]
    },
    {
      "cell_type": "code",
      "execution_count": null,
      "metadata": {
        "id": "26v7nxVMvsnZ",
        "colab": {
          "base_uri": "https://localhost:8080/"
        },
        "outputId": "beaf6c1a-442f-4f60-c317-85d2dcb58ce1"
      },
      "outputs": [
        {
          "output_type": "execute_result",
          "data": {
            "text/plain": [
              "Kingdom         object\n",
              "DNAtype          int64\n",
              "SpeciesID        int64\n",
              "Ncodons          int64\n",
              "SpeciesName     object\n",
              "UUU             object\n",
              "UUC             object\n",
              "UUA            float64\n",
              "UUG            float64\n",
              "CUU            float64\n",
              "CUC            float64\n",
              "CUA            float64\n",
              "CUG            float64\n",
              "AUU            float64\n",
              "AUC            float64\n",
              "AUA            float64\n",
              "AUG            float64\n",
              "GUU            float64\n",
              "GUC            float64\n",
              "GUA            float64\n",
              "dtype: object"
            ]
          },
          "metadata": {},
          "execution_count": 5
        }
      ],
      "source": [
        "df.dtypes.head(20)"
      ]
    },
    {
      "cell_type": "markdown",
      "metadata": {
        "id": "4Y1FdwGzvsnZ"
      },
      "source": [
        "Kolumny `UUU` i `UUC` powinny być floatami - niedobrze. Na szczęście to tylko literówka w jednym wierszu, co można sprawdzić w danych. Usuniemy ją po prostu."
      ]
    },
    {
      "cell_type": "code",
      "execution_count": null,
      "metadata": {
        "id": "5-tXKNmZvsnZ",
        "colab": {
          "base_uri": "https://localhost:8080/"
        },
        "outputId": "f741bd5d-bf36-4ab1-e515-6fd039940014"
      },
      "outputs": [
        {
          "output_type": "execute_result",
          "data": {
            "text/plain": [
              "Kingdom         object\n",
              "DNAtype          int64\n",
              "SpeciesID        int64\n",
              "Ncodons          int64\n",
              "SpeciesName     object\n",
              "UUU            float64\n",
              "UUC            float64\n",
              "UUA            float64\n",
              "UUG            float64\n",
              "CUU            float64\n",
              "CUC            float64\n",
              "CUA            float64\n",
              "CUG            float64\n",
              "AUU            float64\n",
              "AUC            float64\n",
              "AUA            float64\n",
              "AUG            float64\n",
              "GUU            float64\n",
              "GUC            float64\n",
              "GUA            float64\n",
              "dtype: object"
            ]
          },
          "metadata": {},
          "execution_count": 6
        }
      ],
      "source": [
        "df = df[pd.to_numeric(df[\"UUU\"], errors=\"coerce\").notnull()].copy()\n",
        "\n",
        "df = df.copy()  # to avoid irritating SettingWithCopyWarning\n",
        "\n",
        "df[\"UUU\"] = df.loc[:, \"UUU\"].astype(float)\n",
        "df[\"UUC\"] = df.loc[:, \"UUC\"].astype(float)\n",
        "\n",
        "df.dtypes.head(20)"
      ]
    },
    {
      "cell_type": "markdown",
      "metadata": {
        "id": "XpyguPtnvsna"
      },
      "source": [
        "**Zadanie 1 (1.5 punktu)**\n",
        "\n",
        "*Preprocessing danych (wzorowany na artykule)*\n",
        "\n",
        "1. Usuń wiersze mające mniej niż 1000 kodonów\n",
        "2. Usuń wiersze dla plazmidów (wartość `plm` dla królestwa)\n",
        "3. Usuń kolumny bezużyteczne dla ML: `DNAtype`, `SpeciesID`, `Ncodons`, `SpeciesName`\n",
        "4. Zakoduj klasy (kolumna `Kingdom`):\n",
        "  - 0 - archaea, `arc`\n",
        "  - 1 - bacteria, `bct`\n",
        "  - 2 - eukaryota, `pln`, `inv`, `vrt`, `mam`, `rod`, `pri`\n",
        "  - 3 - bacteriophages (phages), `phg`\n",
        "  - 4 - viruses (viral cells), `vrl`\n",
        "5. Wyodrębnij klasy jako osobną zmienną `y`. Pamiętaj o usunięciu tej kolumny z oryginalnego DataFrame'a."
      ]
    },
    {
      "cell_type": "code",
      "execution_count": null,
      "metadata": {
        "id": "sJOlsHWzvsna"
      },
      "outputs": [],
      "source": [
        "df = df[df[\"Ncodons\"] > 1000]\n",
        "df = df[df[\"Kingdom\"] != \"plm\"]\n",
        "df = df.drop([\"DNAtype\", \"SpeciesID\", \"Ncodons\", \"SpeciesName\"], axis=\"columns\")\n",
        "\n",
        "df = df.replace(\n",
        "    {\n",
        "        \"Kingdom\": {\n",
        "            \"arc\":0,\n",
        "            \"bct\":1,\n",
        "            \"pln\":2,\n",
        "            \"inv\":2,\n",
        "            \"vrt\":2,\n",
        "            \"mam\":2,\n",
        "            \"rod\":2,\n",
        "            \"pri\":2,\n",
        "            \"phg\":3,\n",
        "            \"vrl\":4,\n",
        "        }\n",
        "    }\n",
        ")"
      ]
    },
    {
      "cell_type": "code",
      "source": [
        "y = df.pop(\"Kingdom\")\n",
        "y"
      ],
      "metadata": {
        "id": "PWCO1A7PzFkA",
        "colab": {
          "base_uri": "https://localhost:8080/"
        },
        "outputId": "5314d958-2842-4d87-a865-08b84c042932"
      },
      "execution_count": null,
      "outputs": [
        {
          "output_type": "execute_result",
          "data": {
            "text/plain": [
              "0        4\n",
              "1        4\n",
              "2        4\n",
              "3        4\n",
              "4        4\n",
              "        ..\n",
              "13023    2\n",
              "13024    2\n",
              "13025    2\n",
              "13026    2\n",
              "13027    2\n",
              "Name: Kingdom, Length: 12998, dtype: int64"
            ]
          },
          "metadata": {},
          "execution_count": 8
        }
      ]
    },
    {
      "cell_type": "code",
      "source": [
        "y.value_counts()"
      ],
      "metadata": {
        "id": "mfINrN2V1STN",
        "colab": {
          "base_uri": "https://localhost:8080/"
        },
        "outputId": "4012dd37-06bd-49ac-bbb1-4fabc07722ba"
      },
      "execution_count": null,
      "outputs": [
        {
          "output_type": "execute_result",
          "data": {
            "text/plain": [
              "2    6903\n",
              "1    2918\n",
              "4    2831\n",
              "3     220\n",
              "0     126\n",
              "Name: Kingdom, dtype: int64"
            ]
          },
          "metadata": {},
          "execution_count": 9
        }
      ]
    },
    {
      "cell_type": "markdown",
      "metadata": {
        "id": "Bh4MN8v1vsna"
      },
      "source": [
        "Sprawdzimy jeszcze rozkład klas:"
      ]
    },
    {
      "cell_type": "code",
      "execution_count": null,
      "metadata": {
        "id": "cYk0RsS0vsna",
        "colab": {
          "base_uri": "https://localhost:8080/",
          "height": 298
        },
        "outputId": "8079a7ed-1da3-482e-b909-18fa7418cb09"
      },
      "outputs": [
        {
          "output_type": "execute_result",
          "data": {
            "text/plain": [
              "Text(0.5, 1.0, 'Class frequencies in %')"
            ]
          },
          "metadata": {},
          "execution_count": 10
        },
        {
          "output_type": "display_data",
          "data": {
            "text/plain": [
              "<Figure size 432x288 with 1 Axes>"
            ],
            "image/png": "[encoded data removed]"
          },
          "metadata": {
            "needs_background": "light"
          }
        }
      ],
      "source": [
        "class_frequencies = y.value_counts() / y.sum()\n",
        "class_frequencies = class_frequencies.sort_index()\n",
        "class_frequencies.index = [\"Archaea\", \"Bacteria\", \"Eukaryota\", \"Phages\", \"Viruses\"]\n",
        "\n",
        "ax = class_frequencies.plot.bar(rot=0)\n",
        "plt.title(\"Class frequencies in %\")"
      ]
    },
    {
      "cell_type": "markdown",
      "metadata": {
        "id": "aGQlj1Luvsnb"
      },
      "source": [
        "Jak widać, mamy nie tylko klasyfikację wieloklasową, ale na dodatek klasyfikację niezbalansowaną. W takim przypadku trzeba użyć odpowiednich metryk. Wzorując się na artykule, użyjemy **macro-averaged F1-score**. Jest to proste rozwinięcie F1-score na wiele klas.\n",
        "\n",
        "Dla przypomnienia, w klasyfikacji binarnej, F1-score to średnia harmoniczna precyzji (precision) i czułości (recall):\n",
        "\n",
        "$$\n",
        "F1 = \\frac{2}{recall^{-1} + precision^{-1}} = 2 * \\frac{precision * recall}{precision + recall} = \\frac{2 * TP}{2 * TP + FP + FN}\n",
        "$$\n",
        "\n",
        "Macro-averaging oznacza, że najpierw obliczamy F1-score dla każdej klasy, a później bierzemy ich średnią. Żeby taka średnia była wysoka, to musimy mieć wysoki wynik na wszystkich 5 klasach, w tym 2 mniejszościowych, więc uwzględnimy niezbalansowanie klas."
      ]
    },
    {
      "cell_type": "markdown",
      "metadata": {
        "id": "KbuRRbHmvsnb"
      },
      "source": [
        "## Klasyfikator kNN"
      ]
    },
    {
      "cell_type": "markdown",
      "metadata": {
        "id": "mbo4krIPvsnb"
      },
      "source": [
        "Wytrenujemy teraz podstawowy algorytm k najbliższych sąsiadów, korzystając z samych wartości domyślnych ze Scikit-learn: 5 sąsiadów, metryka euklidesowa, brak ważenia.\n",
        "\n",
        "Zgodnie z artykułem, wykorzystamy zwykłą metodę holdout do testowania, dzieląc zbiór na treningowy i testowy w proporcjach 80%-20%. Zrobimy to ze **stratyfikacją (stratification)**, czyli tak, żeby rozkład klas był taki sam w obu podzbiorach."
      ]
    },
    {
      "cell_type": "code",
      "execution_count": null,
      "metadata": {
        "id": "GggVE-i5vsnb"
      },
      "outputs": [],
      "source": [
        "from sklearn.model_selection import train_test_split\n",
        "\n",
        "\n",
        "X_train, X_test, y_train, y_test = train_test_split(\n",
        "    df, y, test_size=0.2, random_state=0, stratify=y\n",
        ")"
      ]
    },
    {
      "cell_type": "code",
      "execution_count": null,
      "metadata": {
        "id": "vde9bic2vsnc",
        "colab": {
          "base_uri": "https://localhost:8080/"
        },
        "outputId": "05e09d65-9a8b-4484-9f48-71cc7431e22b"
      },
      "outputs": [
        {
          "output_type": "stream",
          "name": "stdout",
          "text": [
            "F1 train: 92.97%\n",
            "F1 test: 89.50%\n"
          ]
        }
      ],
      "source": [
        "from sklearn.metrics import f1_score\n",
        "from sklearn.neighbors import KNeighborsClassifier\n",
        "\n",
        "\n",
        "clf = KNeighborsClassifier(n_jobs=-1)\n",
        "clf.fit(X_train, y_train)\n",
        "\n",
        "y_pred_score_train = clf.predict(X_train)\n",
        "y_pred_score_test = clf.predict(X_test)\n",
        "\n",
        "f1_train = f1_score(y_train, y_pred_score_train, average=\"macro\")\n",
        "f1_test = f1_score(y_test, y_pred_score_test, average=\"macro\")\n",
        "\n",
        "print(f\"F1 train: {100 * f1_train:.2f}%\")\n",
        "print(f\"F1 test: {100 * f1_test:.2f}%\")"
      ]
    },
    {
      "cell_type": "markdown",
      "metadata": {
        "id": "XHWfmZpHvsnc"
      },
      "source": [
        "Wyniki są całkiem niezłe, ale jest jeszcze miejsce na poprawę. Być może zmiana liczby sąsiadów albo metryki, albo też dodanie ważenia sąsiadów da nam jeszcze kilka procent.\n",
        "\n",
        "W przypadku wielu klas samo agregowane F1 nie zawsze mówi jednak wszystko. Zawsze warto sprawdzić **macierz pomyłek (confusion matrix)**. Co ważne, można ją rysować albo z surową liczbą przykładów, albo znormalizować, żeby dostać wyniki w ułamku (zakres wartości 0-1). Pierwsza możliwość jest przydatna, kiedy mamy niezbalansowane klasy i patrzymy na ogólną jakość klasyfikatora. Znormalizowane wykresy są z kolei przydatne, kiedy przyglądamy się klasom z osobna."
      ]
    },
    {
      "cell_type": "code",
      "execution_count": null,
      "metadata": {
        "id": "LnVTfwgRvsnd",
        "colab": {
          "base_uri": "https://localhost:8080/",
          "height": 573
        },
        "outputId": "f7d8bf36-30dd-4299-b236-f6bce303e132"
      },
      "outputs": [
        {
          "output_type": "display_data",
          "data": {
            "text/plain": [
              "<Figure size 432x288 with 2 Axes>"
            ],
            "image/png": "[encoded data removed]"
          },
          "metadata": {
            "needs_background": "light"
          }
        },
        {
          "output_type": "display_data",
          "data": {
            "text/plain": [
              "<Figure size 432x288 with 2 Axes>"
            ],
            "image/png": "[encoded data removed]"
          },
          "metadata": {
            "needs_background": "light"
          }
        }
      ],
      "source": [
        "from sklearn.metrics import ConfusionMatrixDisplay\n",
        "\n",
        "ConfusionMatrixDisplay.from_estimator(\n",
        "    clf, X_test, y_test\n",
        ")\n",
        "plt.title(\"Confusion matrix (no normalization)\")\n",
        "plt.show()\n",
        "\n",
        "\n",
        "ConfusionMatrixDisplay.from_estimator(\n",
        "    clf, X_test, y_test, normalize=\"true\"\n",
        ")\n",
        "plt.title(\"Confusion matrix (row-normalized)\")\n",
        "plt.show()"
      ]
    },
    {
      "cell_type": "markdown",
      "metadata": {
        "id": "pZe23ykkvsnd"
      },
      "source": [
        "Wyniki są całkiem niezłe, w końcu mamy wysokie F1. Widać jednak, że dość często mylimy klasę 0 (archeony) oraz klasę 3 (bakteriofagi) z klasą 1 (bakterie) - jest to problematyczne, ale zrozumiałe, bo tych klas jest najmniej.\n",
        "\n",
        "Po tuningu powinniśmy otrzymać lepsze wyniki. Na dobry początek sprawdzimy różną liczbę sąsiadów. Trzeba zwrócić uwagę, że jeżeli nasza metryka ma jakieś argumenty, to trzeba użyć funkcji `make_scorer` i przekazać wynik do `GridSearchCV`.\n",
        "\n",
        "Zwróć też uwagę, że skoro przekazujemy `n_jobs=-1` do klasyfikatora, to grid search dostaje `n_jobs=None`, żeby mieć tyle procesów, co rdzeni procesora. Przy okazji zmierzymy też czas tuningu."
      ]
    },
    {
      "cell_type": "code",
      "execution_count": null,
      "metadata": {
        "id": "heInENBGvsnd",
        "colab": {
          "base_uri": "https://localhost:8080/"
        },
        "outputId": "c5a9791a-56d8-4915-c4aa-3b442cdcf88c"
      },
      "outputs": [
        {
          "output_type": "stream",
          "name": "stdout",
          "text": [
            "Optimal number of neighbors: 1\n",
            "Tuning time: 69.37 s\n",
            "F1 train: 100.00%\n",
            "F1 test: 89.11%\n"
          ]
        }
      ],
      "source": [
        "from time import time\n",
        "\n",
        "from sklearn.metrics import make_scorer\n",
        "from sklearn.model_selection import GridSearchCV\n",
        "\n",
        "\n",
        "clf = KNeighborsClassifier(n_jobs=-1)\n",
        "\n",
        "param_grid = {\n",
        "    \"n_neighbors\": list(range(1, 51)),\n",
        "}\n",
        "\n",
        "multiclass_f1 = make_scorer(\n",
        "    f1_score,\n",
        "    average=\"macro\", \n",
        "    greater_is_better=True,\n",
        ")\n",
        "\n",
        "cv = GridSearchCV(\n",
        "    estimator=clf,\n",
        "    param_grid=param_grid,\n",
        "    scoring=multiclass_f1,\n",
        "    cv=5,\n",
        ")\n",
        "\n",
        "time_start = time()\n",
        "cv.fit(X_train, y_train)\n",
        "time_end = time()\n",
        "\n",
        "print(f\"Optimal number of neighbors: {cv.best_params_['n_neighbors']}\")\n",
        "print(f\"Tuning time: {time_end - time_start:.2f} s\")\n",
        "\n",
        "y_pred_score_train = cv.predict(X_train)\n",
        "y_pred_score_test = cv.predict(X_test)\n",
        "\n",
        "f1_train = f1_score(y_train, y_pred_score_train, average=\"macro\")\n",
        "f1_test = f1_score(y_test, y_pred_score_test, average=\"macro\")\n",
        "\n",
        "print(f\"F1 train: {100 * f1_train:.2f}%\")\n",
        "print(f\"F1 test: {100 * f1_test:.2f}%\")"
      ]
    },
    {
      "cell_type": "markdown",
      "metadata": {
        "id": "ceNI-TMwvsnd"
      },
      "source": [
        "Co ciekawe, po tuningu nie tylko nie mamy lepszego wyniku, ale wręcz przeuczamy bardziej! Tak się niestety zdarza - tuning opiera się na wyniku na zbiorze walidacyjnym, które nie zawsze są dobrą estymatą. Pewnym sposobem na ominięcie tego jest zmniejszenie zakresu dla hiperparametru. Tutaj wiemy, że:\n",
        "- im mniejsza liczba sąsiadów, tym większa wariancja (mocniejszy overfitting) i na odwrót\n",
        "- domyślna liczba sąsiadów to 5\n",
        "- przy 4 przeuczamy mocniej\n",
        "\n",
        "Można więc po prostu sprawdzać zakres od 5 wzwyż. Do tego czeka nas jeszcze tuning metryki i ważenia sąsiadów.\n",
        "\n",
        "**Zadanie 2 (1.5 punktu)**\n",
        "\n",
        "*Tuning kNN*\n",
        "\n",
        "1. Dokonaj tuningu: liczby sąsiadów (zakres [5, 25]), metryki (euklidesowa, Manhattan, cosinusowa) oraz ważenia sąsiadów (brak vs ważenie odległością). Jakie są optymalne wartości hiperparametrów?\n",
        "2. Zmierz czas. Czy twoim zdaniem to długo, dla zbioru, który ma ok. 10k próbek uczących?\n",
        "3. Czy macierz pomyłek dla zbioru testowego wygląda sensownie, szczególnie dla klas mniejszościowych? Czy udało się uzyskać wynik lepszy od bazowego?"
      ]
    },
    {
      "cell_type": "code",
      "execution_count": null,
      "metadata": {
        "id": "7jGaGokwvsne"
      },
      "outputs": [],
      "source": [
        "param_grid = {\n",
        "    \"n_neighbors\": list(range(5, 25)),\n",
        "    \"metric\": ['euclidean', 'cosine', 'manhattan'],\n",
        "    \"weights\":  ['distance', None],\n",
        "}\n",
        "\n",
        "cv = GridSearchCV(\n",
        "    estimator=clf,\n",
        "    param_grid=param_grid,\n",
        "    scoring=multiclass_f1,\n",
        "    cv=5,\n",
        ")\n",
        "\n",
        "time_start = time()\n",
        "cv.fit(X_train, y_train)\n",
        "time_end = time()\n"
      ]
    },
    {
      "cell_type": "code",
      "source": [
        "print(f\"Optimal number of neighbors: {cv.best_params_['n_neighbors']}\")\n",
        "print(f\"Tuning time: {time_end - time_start:.2f} s\")\n",
        "\n",
        "y_pred_score_train = cv.predict(X_train)\n",
        "y_pred_score_test = cv.predict(X_test)\n",
        "\n",
        "f1_train = f1_score(y_train, y_pred_score_train, average=\"macro\")\n",
        "f1_test = f1_score(y_test, y_pred_score_test, average=\"macro\")\n",
        "\n",
        "print(f\"F1 train: {100 * f1_train:.2f}%\")\n",
        "print(f\"F1 test: {100 * f1_test:.2f}%\")"
      ],
      "metadata": {
        "id": "59kEh9Vt_6Va",
        "colab": {
          "base_uri": "https://localhost:8080/"
        },
        "outputId": "8c82e538-2de7-404f-ba97-e070202d0a31"
      },
      "execution_count": null,
      "outputs": [
        {
          "output_type": "stream",
          "name": "stdout",
          "text": [
            "Optimal number of neighbors: 6\n",
            "Tuning time: 540.42 s\n",
            "F1 train: 100.00%\n",
            "F1 test: 90.56%\n"
          ]
        }
      ]
    },
    {
      "cell_type": "code",
      "source": [
        "print(f\"Optimal metric: {cv.best_params_['metric']}\")\n",
        "print(f\"Optimal weights: {cv.best_params_['weights']}\")"
      ],
      "metadata": {
        "id": "UY1y6kvOAemC",
        "colab": {
          "base_uri": "https://localhost:8080/"
        },
        "outputId": "7b23247f-2747-403b-9a38-4fcec24e8c63"
      },
      "execution_count": null,
      "outputs": [
        {
          "output_type": "stream",
          "name": "stdout",
          "text": [
            "Optimal metric: cosine\n",
            "Optimal weights: distance\n"
          ]
        }
      ]
    },
    {
      "cell_type": "code",
      "source": [
        "ConfusionMatrixDisplay.from_estimator(\n",
        "    cv, X_test, y_test\n",
        ")\n",
        "plt.title(\"Confusion matrix (no normalization)\")\n",
        "plt.show()\n",
        "\n",
        "\n",
        "ConfusionMatrixDisplay.from_estimator(\n",
        "    cv, X_test, y_test, normalize=\"true\"\n",
        ")\n",
        "plt.title(\"Confusion matrix (row-normalized)\")\n",
        "plt.show()"
      ],
      "metadata": {
        "id": "D9eV2ce_9M2x",
        "colab": {
          "base_uri": "https://localhost:8080/",
          "height": 573
        },
        "outputId": "463ba3f8-1cc0-4dd2-a93e-5ef2fe30fb9f"
      },
      "execution_count": null,
      "outputs": [
        {
          "output_type": "display_data",
          "data": {
            "text/plain": [
              "<Figure size 432x288 with 2 Axes>"
            ],
            "image/png": "[encoded data removed]"
          },
          "metadata": {
            "needs_background": "light"
          }
        },
        {
          "output_type": "display_data",
          "data": {
            "text/plain": [
              "<Figure size 432x288 with 2 Axes>"
            ],
            "image/png": "[encoded data removed]"
          },
          "metadata": {
            "needs_background": "light"
          }
        }
      ]
    },
    {
      "cell_type": "markdown",
      "metadata": {
        "id": "ky__9X-Tvsne"
      },
      "source": [
        "# Mój komentarz\n",
        "1. Optymalne parametry:\n",
        "\n",
        "*   liczba sąsiadów - 6\n",
        "*   metryka - cosinus\n",
        "* ważenie - oparte na dystansie\n",
        "\n",
        "2. Uczenie trwało 10 min, myślę, że dla zbioru, który ma 10k próbek to całkiem dużo, szczególnie, że normalnie zajmowało to kilka sekund np przy regresji liniowej.\n",
        "\n",
        "3. Dzięki treningowi zwiekszyliśmy poprawność modelu o 1%, najgorzej wypadające klasy poprawiły się, choć nadal są mocno najgorsze. Potrzeba większej ilości danych, żeby to poprawić.\n",
        "\n",
        "\n",
        "\n",
        "\n"
      ]
    },
    {
      "cell_type": "markdown",
      "metadata": {
        "id": "9KRpCI2jvsne"
      },
      "source": [
        "## Approximate Nearest Neighbors (ANN)"
      ]
    },
    {
      "cell_type": "markdown",
      "metadata": {
        "id": "5VYXO4hdvsne"
      },
      "source": [
        "Postaramy się teraz przyspieszyć nasz klasyfikator, w zamian za odrobinę dokładności, za pomocą algorytmu przybliżonych najbliższych sąsiadów, a konkretnie NNDescent.\n",
        "\n",
        "Twórcy Scikit-learn'a zdawali sobie sprawę, że algorytmy znajdowania najbliższych sąsiadów to aktywne pole rozwoju, dlatego stworzyli klasę (i interfejs) `KNeighborsTransformer`, pozwalającą integrować zewnętrzne rozwiązania. Działa ona zarówno do klasyfikacji / regresji kNN, jak i do innych algorytmów opartych o sąsiedztwo, które budują graf najbliższych sąsiadów. W przypadku jego użycia trzeba podać `metric=\"precomputed\"`, bo obliczaniem odległości zajmuje się osobny algorytm.\n",
        "\n",
        "Implementacja PyNNDescent korzysta właśnie z tego rozwiązania, co gwarantuje łatwość użycia - klasa `PyNNDescentTransformer` dziedziczy po `KNeighborsTransformer`. Zobaczmy, jak to działa. Wykorzystamy funkcję `make_pipeline()`, która buduje obiekt `Pipeline`, ale nie wymaga podawania nazw kolejnych elementów.\n",
        "\n",
        "**Uwaga:** PyNNDescent dla wydajności korzysta z Numby, czyli kompilatora JIT (Just-In-Time). Dzięki temu działa to bardzo szybko, ale pierwszy import i wykonanie zajmuje sporo czasu. Wykonaj kod 2 razy - za drugim razem będzie o wiele szybciej."
      ]
    },
    {
      "cell_type": "code",
      "execution_count": null,
      "metadata": {
        "id": "V6PB52xTvsne"
      },
      "outputs": [],
      "source": [
        "from time import time\n",
        "\n",
        "\n",
        "def benchmark_knn_and_ann(\n",
        "    sklearn_knn, \n",
        "    pynndescent_ann, \n",
        "    X_train, \n",
        "    X_test, \n",
        "    y_train, \n",
        "    y_test,\n",
        ") -> None:\n",
        "    # training\n",
        "    start_time = time()\n",
        "    sklearn_knn.fit(X_train, y_train)\n",
        "    end_time = time()\n",
        "\n",
        "    sklearn_knn_fit_time = end_time - start_time\n",
        "\n",
        "    start_time = time()\n",
        "    pynndescent_ann.fit(X_train, y_train)\n",
        "    end_time = time()\n",
        "\n",
        "    pynndescent_ann_fit_time = end_time - start_time\n",
        "\n",
        "    # prediction\n",
        "\n",
        "    start_time = time()\n",
        "    y_pred_sklearn = sklearn_knn.predict(X_test)\n",
        "    end_time = time()\n",
        "\n",
        "    sklearn_knn_predict_time = end_time - start_time\n",
        "\n",
        "    start_time = time()\n",
        "    y_pred_pynndescent = pynndescent_ann.predict(X_test)\n",
        "    end_time = time()\n",
        "\n",
        "    pynndescent_ann_predict_time = end_time - start_time\n",
        "    \n",
        "    f1_knn = f1_score(y_test, y_pred_sklearn, average=\"macro\")\n",
        "    f1_ann = f1_score(y_test, y_pred_pynndescent, average=\"macro\")\n",
        "\n",
        "    print(f\"Scikit-learn training time: {sklearn_knn_fit_time:.2f}\")\n",
        "    print(f\"PyNNDescent training time: {pynndescent_ann_fit_time:.2f}\")\n",
        "    print()\n",
        "    print(f\"Scikit-learn prediction time: {sklearn_knn_predict_time:.2f}\")\n",
        "    print(f\"PyNNDescent prediction time: {pynndescent_ann_predict_time:.2f}\")\n",
        "    print()\n",
        "    print(f\"Scikit-learn F1: {100 * f1_knn:.2f}%\")\n",
        "    print(f\"PyNNDescent F1: {100 * f1_ann:.2f}%\")"
      ]
    },
    {
      "cell_type": "code",
      "execution_count": null,
      "metadata": {
        "id": "AZb4Vtdcvsne",
        "colab": {
          "base_uri": "https://localhost:8080/"
        },
        "outputId": "ee43a732-f972-4594-a7ee-d8849b45b538"
      },
      "outputs": [
        {
          "output_type": "stream",
          "name": "stdout",
          "text": [
            "Scikit-learn training time: 0.01\n",
            "PyNNDescent training time: 48.72\n",
            "\n",
            "Scikit-learn prediction time: 0.29\n",
            "PyNNDescent prediction time: 0.13\n",
            "\n",
            "Scikit-learn F1: 89.50%\n",
            "PyNNDescent F1: 89.45%\n"
          ]
        }
      ],
      "source": [
        "from pynndescent import PyNNDescentTransformer\n",
        "from sklearn.pipeline import make_pipeline\n",
        "\n",
        "\n",
        "sklearn_knn = KNeighborsClassifier(metric=\"euclidean\")\n",
        "\n",
        "pynndescent_ann = make_pipeline(\n",
        "    PyNNDescentTransformer(metric=\"euclidean\", random_state=0),\n",
        "    KNeighborsClassifier(metric=\"precomputed\"),\n",
        ")\n",
        "\n",
        "benchmark_knn_and_ann(sklearn_knn, pynndescent_ann, X_train, X_test, y_train, y_test)"
      ]
    },
    {
      "cell_type": "markdown",
      "metadata": {
        "id": "l7sttR8Svsnf"
      },
      "source": [
        "Czas treningu jest dłuższy - to oczekiwany wynik. Natomiast czas predykcji jest podobny - wynika to z tego, że dla metryki euklidesowej k-d tree jest bardzo wydajne. Wynik jest bardzo podobny, więc mamy dobre przybliżenie.\n",
        "\n",
        "Sprawdźmy metrykę Manhattan, dla której typowo k-d tree radzi sobie nieco gorzej."
      ]
    },
    {
      "cell_type": "code",
      "execution_count": null,
      "metadata": {
        "scrolled": true,
        "id": "X6dYC-__vsnf",
        "colab": {
          "base_uri": "https://localhost:8080/"
        },
        "outputId": "86ac55db-337d-4b50-f4c7-5c40e3506771"
      },
      "outputs": [
        {
          "output_type": "stream",
          "name": "stdout",
          "text": [
            "Scikit-learn training time: 0.01\n",
            "PyNNDescent training time: 19.69\n",
            "\n",
            "Scikit-learn prediction time: 2.21\n",
            "PyNNDescent prediction time: 0.23\n",
            "\n",
            "Scikit-learn F1: 89.67%\n",
            "PyNNDescent F1: 89.64%\n"
          ]
        }
      ],
      "source": [
        "sklearn_knn = KNeighborsClassifier(metric=\"manhattan\")\n",
        "\n",
        "pynndescent_ann = make_pipeline(\n",
        "    PyNNDescentTransformer(metric=\"manhattan\", random_state=0),\n",
        "    KNeighborsClassifier(metric=\"precomputed\"),\n",
        ")\n",
        "\n",
        "benchmark_knn_and_ann(sklearn_knn, pynndescent_ann, X_train, X_test, y_train, y_test)"
      ]
    },
    {
      "cell_type": "markdown",
      "metadata": {
        "id": "u2_aefZtvsnf"
      },
      "source": [
        "Tutaj predykcja ANN jest już wyraźnie szybsza - co prawda dane są niezbyt duże, więc nie ma to aż takiego znaczenia, ale widać potencjał skalowalności. Dodatkowo wynik jest taki sam.\n",
        "\n",
        "Różnice byłyby znacznie lepiej widoczne w algorytmach, które budują cały graf najbliższych sąsiadów. Poznamy je na laboratorium z redukcji wymiaru i selekcji cech."
      ]
    },
    {
      "cell_type": "markdown",
      "metadata": {
        "id": "9FUjFecevsnf"
      },
      "source": [
        "## Zbiór danych - klasyfikacja danych binarnych"
      ]
    },
    {
      "cell_type": "markdown",
      "metadata": {
        "id": "3CcoidSuvsnf"
      },
      "source": [
        "Teraz zajmiemy się klasyfikacją zbioru posiadającego same zmienne binarne, do których trzeba użyć odpowiednich metryk. Konkretnie, będzie to zbiór [HIV z benchmarku MoleculeNet](https://moleculenet.org/datasets-1), w którym na podstawie reprezentacji chemicznej molekuły trzeba przewidywać, czy jest ona inhibitorem wirusa HIV. [Inhibitory](https://en.wikipedia.org/wiki/Reaction_inhibitor) to substancje przeciwne do katalizatorów - spowalniają lub uniemożliwiają jakieś zjawisko, w naszym wypadku infekcję wirusa HIV. Przewidywanie własności molekuł to kluczowe zadanie w nowoczesnym projektowaniu leków i bardzo ważne zastosowanie ML w farmacji.\n",
        "\n",
        "Zbiór jest już podzielony na treningowy, walidacyjny i testowy w ramach projektu [Open Graph Benchmark](https://ogb.stanford.edu/docs/graphprop/). Dane te można traktować jak klasyfikację grafów molekularnych, ale w naszym wypadku zostały już one przetworzone do postaci tabelarycznej algorytmem [ECFP4 fingerprint](https://docs.chemaxon.com/display/docs/extended-connectivity-fingerprint-ecfp.md#:~:text=Extended%2DConnectivity%20Fingerprints%20(ECFPs),a%20wide%20variety%20of%20applications.). Konkretnie, z molekuł wyciągnięto informacje o 1024 podgrafach, gdzie wartość zmiennej mówi, czy dana struktura występuje w molekule, czy też nie.\n",
        "\n",
        "Jako że zbiór jest binarny, to nie ma potrzeby żadnego skalowania zmiennych.\n",
        "\n",
        "W przypadku tego zbioru oficjalną metryką [w benchmarku](https://ogb.stanford.edu/docs/leader_graphprop/) jest Area Under Receiver Operating Characteristic (AUROC / ROC AUC)."
      ]
    },
    {
      "cell_type": "markdown",
      "metadata": {
        "id": "nQH-6-fCvsng"
      },
      "source": [
        "**Zadanie 3 (1 punkt)**\n",
        "\n",
        "*Ładowanie danych*\n",
        "\n",
        "1. Wczytaj zbiory treningowy, walidacyjny i testowy. Są one w postaci plików Parquet.\n",
        "2. Wyodrębnij klasę `y` do osobnych zmiennych `y_train`, `y_valid`, `y_test`.\n",
        "3. Przekonwertuj macierze `X_train`, `X_valid` i `X_test` na typ bool ([przydatne pytanie na StackOverflow](https://stackoverflow.com/questions/20373039/how-do-i-convert-a-numpy-matrix-into-a-boolean-matrix)) - tak przechowywane dane zajmują mniej miejsca.\n",
        "4. Narysuj wykres częstości klas w zbiorze treningowym. Jak sądzisz, czemu akurat AUROC zostało tutaj wybrane jako metryka?"
      ]
    },
    {
      "cell_type": "code",
      "execution_count": null,
      "metadata": {
        "id": "YHsi8I8Cvsng"
      },
      "outputs": [],
      "source": [
        "df_train = pd.read_parquet(\"/content/drive/MyDrive/mol_hiv_train.parquet\", engine='pyarrow')"
      ]
    },
    {
      "cell_type": "code",
      "source": [
        "df_test = pd.read_parquet(\"/content/drive/MyDrive/mol_hiv_test.parquet\", engine='pyarrow')\n",
        "df_valid = pd.read_parquet(\"/content/drive/MyDrive/mol_hiv_valid.parquet\", engine='pyarrow')\n",
        "df_valid.head()"
      ],
      "metadata": {
        "colab": {
          "base_uri": "https://localhost:8080/",
          "height": 236
        },
        "id": "eejaYstxEJon",
        "outputId": "63153f05-34b0-4942-d2b6-b36ce7b7774c"
      },
      "execution_count": null,
      "outputs": [
        {
          "output_type": "execute_result",
          "data": {
            "text/plain": [
              "   0  1  2  3  4  5  6  7  8  9  ...  1015  1016  1017  1018  1019  1020  \\\n",
              "0  0  0  0  0  0  0  0  0  0  0  ...     0     0     1     0     1     0   \n",
              "1  0  0  0  0  0  0  0  0  0  0  ...     0     0     0     0     1     0   \n",
              "2  0  0  0  0  0  0  0  0  0  0  ...     0     0     0     0     0     0   \n",
              "3  0  0  0  0  0  0  0  0  0  0  ...     0     0     0     0     1     0   \n",
              "4  0  0  0  1  0  0  0  0  0  0  ...     0     0     0     0     0     0   \n",
              "\n",
              "   1021  1022  1023  y  \n",
              "0     0     0     0  0  \n",
              "1     0     0     0  0  \n",
              "2     0     0     0  0  \n",
              "3     0     0     0  0  \n",
              "4     0     0     0  0  \n",
              "\n",
              "[5 rows x 1025 columns]"
            ],
            "text/html": [
              "\n",
              "  <div id=\"df-aa8da1e7-938f-4b32-815e-ff2c9672af0b\">\n",
              "    <div class=\"colab-df-container\">\n",
              "      <div>\n",
              "<style scoped>\n",
              "    .dataframe tbody tr th:only-of-type {\n",
              "        vertical-align: middle;\n",
              "    }\n",
              "\n",
              "    .dataframe tbody tr th {\n",
              "        vertical-align: top;\n",
              "    }\n",
              "\n",
              "    .dataframe thead th {\n",
              "        text-align: right;\n",
              "    }\n",
              "</style>\n",
              "<table border=\"1\" class=\"dataframe\">\n",
              "  <thead>\n",
              "    <tr style=\"text-align: right;\">\n",
              "      <th></th>\n",
              "      <th>0</th>\n",
              "      <th>1</th>\n",
              "      <th>2</th>\n",
              "      <th>3</th>\n",
              "      <th>4</th>\n",
              "      <th>5</th>\n",
              "      <th>6</th>\n",
              "      <th>7</th>\n",
              "      <th>8</th>\n",
              "      <th>9</th>\n",
              "      <th>...</th>\n",
              "      <th>1015</th>\n",
              "      <th>1016</th>\n",
              "      <th>1017</th>\n",
              "      <th>1018</th>\n",
              "      <th>1019</th>\n",
              "      <th>1020</th>\n",
              "      <th>1021</th>\n",
              "      <th>1022</th>\n",
              "      <th>1023</th>\n",
              "      <th>y</th>\n",
              "    </tr>\n",
              "  </thead>\n",
              "  <tbody>\n",
              "    <tr>\n",
              "      <th>0</th>\n",
              "      <td>0</td>\n",
              "      <td>0</td>\n",
              "      <td>0</td>\n",
              "      <td>0</td>\n",
              "      <td>0</td>\n",
              "      <td>0</td>\n",
              "      <td>0</td>\n",
              "      <td>0</td>\n",
              "      <td>0</td>\n",
              "      <td>0</td>\n",
              "      <td>...</td>\n",
              "      <td>0</td>\n",
              "      <td>0</td>\n",
              "      <td>1</td>\n",
              "      <td>0</td>\n",
              "      <td>1</td>\n",
              "      <td>0</td>\n",
              "      <td>0</td>\n",
              "      <td>0</td>\n",
              "      <td>0</td>\n",
              "      <td>0</td>\n",
              "    </tr>\n",
              "    <tr>\n",
              "      <th>1</th>\n",
              "      <td>0</td>\n",
              "      <td>0</td>\n",
              "      <td>0</td>\n",
              "      <td>0</td>\n",
              "      <td>0</td>\n",
              "      <td>0</td>\n",
              "      <td>0</td>\n",
              "      <td>0</td>\n",
              "      <td>0</td>\n",
              "      <td>0</td>\n",
              "      <td>...</td>\n",
              "      <td>0</td>\n",
              "      <td>0</td>\n",
              "      <td>0</td>\n",
              "      <td>0</td>\n",
              "      <td>1</td>\n",
              "      <td>0</td>\n",
              "      <td>0</td>\n",
              "      <td>0</td>\n",
              "      <td>0</td>\n",
              "      <td>0</td>\n",
              "    </tr>\n",
              "    <tr>\n",
              "      <th>2</th>\n",
              "      <td>0</td>\n",
              "      <td>0</td>\n",
              "      <td>0</td>\n",
              "      <td>0</td>\n",
              "      <td>0</td>\n",
              "      <td>0</td>\n",
              "      <td>0</td>\n",
              "      <td>0</td>\n",
              "      <td>0</td>\n",
              "      <td>0</td>\n",
              "      <td>...</td>\n",
              "      <td>0</td>\n",
              "      <td>0</td>\n",
              "      <td>0</td>\n",
              "      <td>0</td>\n",
              "      <td>0</td>\n",
              "      <td>0</td>\n",
              "      <td>0</td>\n",
              "      <td>0</td>\n",
              "      <td>0</td>\n",
              "      <td>0</td>\n",
              "    </tr>\n",
              "    <tr>\n",
              "      <th>3</th>\n",
              "      <td>0</td>\n",
              "      <td>0</td>\n",
              "      <td>0</td>\n",
              "      <td>0</td>\n",
              "      <td>0</td>\n",
              "      <td>0</td>\n",
              "      <td>0</td>\n",
              "      <td>0</td>\n",
              "      <td>0</td>\n",
              "      <td>0</td>\n",
              "      <td>...</td>\n",
              "      <td>0</td>\n",
              "      <td>0</td>\n",
              "      <td>0</td>\n",
              "      <td>0</td>\n",
              "      <td>1</td>\n",
              "      <td>0</td>\n",
              "      <td>0</td>\n",
              "      <td>0</td>\n",
              "      <td>0</td>\n",
              "      <td>0</td>\n",
              "    </tr>\n",
              "    <tr>\n",
              "      <th>4</th>\n",
              "      <td>0</td>\n",
              "      <td>0</td>\n",
              "      <td>0</td>\n",
              "      <td>1</td>\n",
              "      <td>0</td>\n",
              "      <td>0</td>\n",
              "      <td>0</td>\n",
              "      <td>0</td>\n",
              "      <td>0</td>\n",
              "      <td>0</td>\n",
              "      <td>...</td>\n",
              "      <td>0</td>\n",
              "      <td>0</td>\n",
              "      <td>0</td>\n",
              "      <td>0</td>\n",
              "      <td>0</td>\n",
              "      <td>0</td>\n",
              "      <td>0</td>\n",
              "      <td>0</td>\n",
              "      <td>0</td>\n",
              "      <td>0</td>\n",
              "    </tr>\n",
              "  </tbody>\n",
              "</table>\n",
              "<p>5 rows × 1025 columns</p>\n",
              "</div>\n",
              "      <button class=\"colab-df-convert\" onclick=\"convertToInteractive('df-aa8da1e7-938f-4b32-815e-ff2c9672af0b')\"\n",
              "              title=\"Convert this dataframe to an interactive table.\"\n",
              "              style=\"display:none;\">\n",
              "        \n",
              "  <svg xmlns=\"http://www.w3.org/2000/svg\" height=\"24px\"viewBox=\"0 0 24 24\"\n",
              "       width=\"24px\">\n",
              "    <path d=\"M0 0h24v24H0V0z\" fill=\"none\"/>\n",
              "    <path d=\"M18.56 5.44l.94 2.06.94-2.06 2.06-.94-2.06-.94-.94-2.06-.94 2.06-2.06.94zm-11 1L8.5 8.5l.94-2.06 2.06-.94-2.06-.94L8.5 2.5l-.94 2.06-2.06.94zm10 10l.94 2.06.94-2.06 2.06-.94-2.06-.94-.94-2.06-.94 2.06-2.06.94z\"/><path d=\"M17.41 7.96l-1.37-1.37c-.4-.4-.92-.59-1.43-.59-.52 0-1.04.2-1.43.59L10.3 9.45l-7.72 7.72c-.78.78-.78 2.05 0 2.83L4 21.41c.39.39.9.59 1.41.59.51 0 1.02-.2 1.41-.59l7.78-7.78 2.81-2.81c.8-.78.8-2.07 0-2.86zM5.41 20L4 18.59l7.72-7.72 1.47 1.35L5.41 20z\"/>\n",
              "  </svg>\n",
              "      </button>\n",
              "      \n",
              "  <style>\n",
              "    .colab-df-container {\n",
              "      display:flex;\n",
              "      flex-wrap:wrap;\n",
              "      gap: 12px;\n",
              "    }\n",
              "\n",
              "    .colab-df-convert {\n",
              "      background-color: #E8F0FE;\n",
              "      border: none;\n",
              "      border-radius: 50%;\n",
              "      cursor: pointer;\n",
              "      display: none;\n",
              "      fill: #1967D2;\n",
              "      height: 32px;\n",
              "      padding: 0 0 0 0;\n",
              "      width: 32px;\n",
              "    }\n",
              "\n",
              "    .colab-df-convert:hover {\n",
              "      background-color: #E2EBFA;\n",
              "      box-shadow: 0px 1px 2px rgba(60, 64, 67, 0.3), 0px 1px 3px 1px rgba(60, 64, 67, 0.15);\n",
              "      fill: #174EA6;\n",
              "    }\n",
              "\n",
              "    [theme=dark] .colab-df-convert {\n",
              "      background-color: #3B4455;\n",
              "      fill: #D2E3FC;\n",
              "    }\n",
              "\n",
              "    [theme=dark] .colab-df-convert:hover {\n",
              "      background-color: #434B5C;\n",
              "      box-shadow: 0px 1px 3px 1px rgba(0, 0, 0, 0.15);\n",
              "      filter: drop-shadow(0px 1px 2px rgba(0, 0, 0, 0.3));\n",
              "      fill: #FFFFFF;\n",
              "    }\n",
              "  </style>\n",
              "\n",
              "      <script>\n",
              "        const buttonEl =\n",
              "          document.querySelector('#df-aa8da1e7-938f-4b32-815e-ff2c9672af0b button.colab-df-convert');\n",
              "        buttonEl.style.display =\n",
              "          google.colab.kernel.accessAllowed ? 'block' : 'none';\n",
              "\n",
              "        async function convertToInteractive(key) {\n",
              "          const element = document.querySelector('#df-aa8da1e7-938f-4b32-815e-ff2c9672af0b');\n",
              "          const dataTable =\n",
              "            await google.colab.kernel.invokeFunction('convertToInteractive',\n",
              "                                                     [key], {});\n",
              "          if (!dataTable) return;\n",
              "\n",
              "          const docLinkHtml = 'Like what you see? Visit the ' +\n",
              "            '<a target=\"_blank\" href=https://colab.research.google.com/notebooks/data_table.ipynb>data table notebook</a>'\n",
              "            + ' to learn more about interactive tables.';\n",
              "          element.innerHTML = '';\n",
              "          dataTable['output_type'] = 'display_data';\n",
              "          await google.colab.output.renderOutput(dataTable, element);\n",
              "          const docLink = document.createElement('div');\n",
              "          docLink.innerHTML = docLinkHtml;\n",
              "          element.appendChild(docLink);\n",
              "        }\n",
              "      </script>\n",
              "    </div>\n",
              "  </div>\n",
              "  "
            ]
          },
          "metadata": {},
          "execution_count": 23
        }
      ]
    },
    {
      "cell_type": "code",
      "source": [
        "y_train = df_train.pop(\"y\")\n",
        "y_test = df_test.pop(\"y\")\n",
        "y_valid = df_valid.pop(\"y\")"
      ],
      "metadata": {
        "id": "caGcpRqoEkjL"
      },
      "execution_count": null,
      "outputs": []
    },
    {
      "cell_type": "code",
      "source": [
        "X_train = np.array(df_train, dtype=bool)"
      ],
      "metadata": {
        "id": "u6mVKH47FDJW"
      },
      "execution_count": null,
      "outputs": []
    },
    {
      "cell_type": "code",
      "source": [
        "X_test = np.array(df_test, dtype=bool)\n",
        "X_valid = np.array(df_valid, dtype=bool)"
      ],
      "metadata": {
        "id": "itGhKlqqFlJu"
      },
      "execution_count": null,
      "outputs": []
    },
    {
      "cell_type": "code",
      "source": [
        "y_train.value_counts()"
      ],
      "metadata": {
        "colab": {
          "base_uri": "https://localhost:8080/"
        },
        "id": "1bQpF7MDG0Y_",
        "outputId": "81350c0f-6384-4614-b0b9-e4585a76a6cc"
      },
      "execution_count": null,
      "outputs": [
        {
          "output_type": "execute_result",
          "data": {
            "text/plain": [
              "0    31669\n",
              "1     1232\n",
              "Name: y, dtype: int64"
            ]
          },
          "metadata": {},
          "execution_count": 27
        }
      ]
    },
    {
      "cell_type": "code",
      "source": [
        "class_frequencies = y_train.value_counts()\n",
        "\n",
        "ax = class_frequencies.plot.bar(rot=0)\n",
        "plt.title(\"Class frequencies\")"
      ],
      "metadata": {
        "colab": {
          "base_uri": "https://localhost:8080/",
          "height": 298
        },
        "id": "5LL_RSMoF4vB",
        "outputId": "dda80dd2-acab-42e4-e904-c374d4574c5e"
      },
      "execution_count": null,
      "outputs": [
        {
          "output_type": "execute_result",
          "data": {
            "text/plain": [
              "Text(0.5, 1.0, 'Class frequencies')"
            ]
          },
          "metadata": {},
          "execution_count": 28
        },
        {
          "output_type": "display_data",
          "data": {
            "text/plain": [
              "<Figure size 432x288 with 1 Axes>"
            ],
            "image/png": "[encoded data removed]"
          },
          "metadata": {
            "needs_background": "light"
          }
        }
      ]
    },
    {
      "cell_type": "markdown",
      "source": [
        "AUROC to metryka, która dobrze mierzy poprawność modelu w przypadku niezbalansowanym(pokazuje jak model rozróżnia klasy)."
      ],
      "metadata": {
        "id": "44NEQy0uHJmJ"
      }
    },
    {
      "cell_type": "markdown",
      "metadata": {
        "id": "Pgw0Ad5lvsng"
      },
      "source": [
        "**Zadanie 4 (1.5 punktu)**\n",
        "\n",
        "*Trening klasyfikatora kNN*\n",
        "\n",
        "1. Wytrenuj klasyfikator kNN z domyślnymi hiperparametrami, używając metryki Jaccarda. Zmierz AUROC na zbiorze testowym. Pamiętaj, żeby przekazać odpowiednie wartości do metryki (patrz [przykład w dokumentacji](https://scikit-learn.org/stable/modules/generated/sklearn.metrics.roc_auc_score.html)).\n",
        "2. Zmierz czas treningu oraz predykcji. Czy podczas treningu została zbudowana jakakolwiek struktura danych?\n",
        "3. Dokonaj tuningu liczby sąsiadów z zakresu [1, 5, 10]. Wykorzystaj tutaj istniejący zbiór walidacyjny z pomocą `PredefinedSplit`. Może się przydać [ta odpowiedź na StackOverflow](https://stackoverflow.com/a/70155766/9472066). Do tuningu wykorzystaj metrykę AUROC (argument `scoring`).\n",
        "4. Porównaj wyniki algorytmu po tuningu [z oficjalnym leaderboardem](https://ogb.stanford.edu/docs/leader_graphprop/)."
      ]
    },
    {
      "cell_type": "code",
      "execution_count": null,
      "metadata": {
        "id": "n4ndav4Xvsng",
        "colab": {
          "base_uri": "https://localhost:8080/"
        },
        "outputId": "5615b31f-6155-4c52-c580-9b14a2933082"
      },
      "outputs": [
        {
          "output_type": "stream",
          "name": "stdout",
          "text": [
            "Training time: 0.13\n"
          ]
        }
      ],
      "source": [
        "clf = KNeighborsClassifier(n_jobs=-1, metric='jaccard')\n",
        "start_time = time()\n",
        "clf.fit(X_train, y_train)\n",
        "end_time = time()\n",
        "\n",
        "print(f\"Training time: {(end_time - start_time):.2f}\")"
      ]
    },
    {
      "cell_type": "code",
      "source": [
        "start_time = time()\n",
        "y_pred = clf.predict(X_test)\n",
        "end_time = time()\n",
        "\n",
        "print(f\"Pridicting time: {(end_time - start_time):.2f}\")"
      ],
      "metadata": {
        "colab": {
          "base_uri": "https://localhost:8080/"
        },
        "id": "XDGQvQlRnCku",
        "outputId": "066bfff9-570c-44d7-be77-c8d5bbbe7a42"
      },
      "execution_count": null,
      "outputs": [
        {
          "output_type": "stream",
          "name": "stdout",
          "text": [
            "Pridicting time: 111.80\n"
          ]
        }
      ]
    },
    {
      "cell_type": "code",
      "source": [
        "from sklearn.metrics import roc_auc_score\n",
        "roc_auc_score(y_test, y_pred)"
      ],
      "metadata": {
        "colab": {
          "base_uri": "https://localhost:8080/"
        },
        "id": "RiWe0agwn8x6",
        "outputId": "26cf32f7-3295-4a70-fe6d-d0f09a332030"
      },
      "execution_count": null,
      "outputs": [
        {
          "output_type": "execute_result",
          "data": {
            "text/plain": [
              "0.5862019351474537"
            ]
          },
          "metadata": {},
          "execution_count": 36
        }
      ]
    },
    {
      "cell_type": "code",
      "source": [
        "from sklearn.model_selection import PredefinedSplit\n",
        "\n",
        "param_grid = {\n",
        "    \"n_neighbors\": [1, 5, 10],\n",
        "}\n",
        "\n",
        "split_index = [-1]*len(X_train) + [0]*len(X_valid)\n",
        "X = np.concatenate((X_train, X_valid), axis=0)\n",
        "y = np.concatenate((y_train, y_valid), axis=0)\n",
        "\n",
        "pds = PredefinedSplit(test_fold = split_index)\n",
        "\n",
        "cv = GridSearchCV(\n",
        "    estimator=clf,\n",
        "    param_grid=param_grid,\n",
        "    scoring='roc_auc',\n",
        "    cv=pds,\n",
        ")\n",
        "cv.fit(X, y)"
      ],
      "metadata": {
        "colab": {
          "base_uri": "https://localhost:8080/",
          "height": 118
        },
        "id": "e-vKyZFbpXqI",
        "outputId": "56da9338-32ef-4fdd-db64-23d6cfa1c951"
      },
      "execution_count": null,
      "outputs": [
        {
          "output_type": "execute_result",
          "data": {
            "text/plain": [
              "GridSearchCV(cv=PredefinedSplit(test_fold=array([-1, -1, ...,  0,  0])),\n",
              "             estimator=KNeighborsClassifier(metric='jaccard', n_jobs=-1),\n",
              "             param_grid={'n_neighbors': [1, 5, 10]}, scoring='roc_auc')"
            ],
            "text/html": [
              "<style>#sk-container-id-1 {color: black;background-color: white;}#sk-container-id-1 pre{padding: 0;}#sk-container-id-1 div.sk-toggleable {background-color: white;}#sk-container-id-1 label.sk-toggleable__label {cursor: pointer;display: block;width: 100%;margin-bottom: 0;padding: 0.3em;box-sizing: border-box;text-align: center;}#sk-container-id-1 label.sk-toggleable__label-arrow:before {content: \"▸\";float: left;margin-right: 0.25em;color: #696969;}#sk-container-id-1 label.sk-toggleable__label-arrow:hover:before {color: black;}#sk-container-id-1 div.sk-estimator:hover label.sk-toggleable__label-arrow:before {color: black;}#sk-container-id-1 div.sk-toggleable__content {max-height: 0;max-width: 0;overflow: hidden;text-align: left;background-color: #f0f8ff;}#sk-container-id-1 div.sk-toggleable__content pre {margin: 0.2em;color: black;border-radius: 0.25em;background-color: #f0f8ff;}#sk-container-id-1 input.sk-toggleable__control:checked~div.sk-toggleable__content {max-height: 200px;max-width: 100%;overflow: auto;}#sk-container-id-1 input.sk-toggleable__control:checked~label.sk-toggleable__label-arrow:before {content: \"▾\";}#sk-container-id-1 div.sk-estimator input.sk-toggleable__control:checked~label.sk-toggleable__label {background-color: #d4ebff;}#sk-container-id-1 div.sk-label input.sk-toggleable__control:checked~label.sk-toggleable__label {background-color: #d4ebff;}#sk-container-id-1 input.sk-hidden--visually {border: 0;clip: rect(1px 1px 1px 1px);clip: rect(1px, 1px, 1px, 1px);height: 1px;margin: -1px;overflow: hidden;padding: 0;position: absolute;width: 1px;}#sk-container-id-1 div.sk-estimator {font-family: monospace;background-color: #f0f8ff;border: 1px dotted black;border-radius: 0.25em;box-sizing: border-box;margin-bottom: 0.5em;}#sk-container-id-1 div.sk-estimator:hover {background-color: #d4ebff;}#sk-container-id-1 div.sk-parallel-item::after {content: \"\";width: 100%;border-bottom: 1px solid gray;flex-grow: 1;}#sk-container-id-1 div.sk-label:hover label.sk-toggleable__label {background-color: #d4ebff;}#sk-container-id-1 div.sk-serial::before {content: \"\";position: absolute;border-left: 1px solid gray;box-sizing: border-box;top: 0;bottom: 0;left: 50%;z-index: 0;}#sk-container-id-1 div.sk-serial {display: flex;flex-direction: column;align-items: center;background-color: white;padding-right: 0.2em;padding-left: 0.2em;position: relative;}#sk-container-id-1 div.sk-item {position: relative;z-index: 1;}#sk-container-id-1 div.sk-parallel {display: flex;align-items: stretch;justify-content: center;background-color: white;position: relative;}#sk-container-id-1 div.sk-item::before, #sk-container-id-1 div.sk-parallel-item::before {content: \"\";position: absolute;border-left: 1px solid gray;box-sizing: border-box;top: 0;bottom: 0;left: 50%;z-index: -1;}#sk-container-id-1 div.sk-parallel-item {display: flex;flex-direction: column;z-index: 1;position: relative;background-color: white;}#sk-container-id-1 div.sk-parallel-item:first-child::after {align-self: flex-end;width: 50%;}#sk-container-id-1 div.sk-parallel-item:last-child::after {align-self: flex-start;width: 50%;}#sk-container-id-1 div.sk-parallel-item:only-child::after {width: 0;}#sk-container-id-1 div.sk-dashed-wrapped {border: 1px dashed gray;margin: 0 0.4em 0.5em 0.4em;box-sizing: border-box;padding-bottom: 0.4em;background-color: white;}#sk-container-id-1 div.sk-label label {font-family: monospace;font-weight: bold;display: inline-block;line-height: 1.2em;}#sk-container-id-1 div.sk-label-container {text-align: center;}#sk-container-id-1 div.sk-container {/* jupyter's `normalize.less` sets `[hidden] { display: none; }` but bootstrap.min.css set `[hidden] { display: none !important; }` so we also need the `!important` here to be able to override the default hidden behavior on the sphinx rendered scikit-learn.org. See: https://github.com/scikit-learn/scikit-learn/issues/21755 */display: inline-block !important;position: relative;}#sk-container-id-1 div.sk-text-repr-fallback {display: none;}</style><div id=\"sk-container-id-1\" class=\"sk-top-container\"><div class=\"sk-text-repr-fallback\"><pre>GridSearchCV(cv=PredefinedSplit(test_fold=array([-1, -1, ...,  0,  0])),\n",
              "             estimator=KNeighborsClassifier(metric=&#x27;jaccard&#x27;, n_jobs=-1),\n",
              "             param_grid={&#x27;n_neighbors&#x27;: [1, 5, 10]}, scoring=&#x27;roc_auc&#x27;)</pre><b>In a Jupyter environment, please rerun this cell to show the HTML representation or trust the notebook. <br />On GitHub, the HTML representation is unable to render, please try loading this page with nbviewer.org.</b></div><div class=\"sk-container\" hidden><div class=\"sk-item sk-dashed-wrapped\"><div class=\"sk-label-container\"><div class=\"sk-label sk-toggleable\"><input class=\"sk-toggleable__control sk-hidden--visually\" id=\"sk-estimator-id-1\" type=\"checkbox\" ><label for=\"sk-estimator-id-1\" class=\"sk-toggleable__label sk-toggleable__label-arrow\">GridSearchCV</label><div class=\"sk-toggleable__content\"><pre>GridSearchCV(cv=PredefinedSplit(test_fold=array([-1, -1, ...,  0,  0])),\n",
              "             estimator=KNeighborsClassifier(metric=&#x27;jaccard&#x27;, n_jobs=-1),\n",
              "             param_grid={&#x27;n_neighbors&#x27;: [1, 5, 10]}, scoring=&#x27;roc_auc&#x27;)</pre></div></div></div><div class=\"sk-parallel\"><div class=\"sk-parallel-item\"><div class=\"sk-item\"><div class=\"sk-label-container\"><div class=\"sk-label sk-toggleable\"><input class=\"sk-toggleable__control sk-hidden--visually\" id=\"sk-estimator-id-2\" type=\"checkbox\" ><label for=\"sk-estimator-id-2\" class=\"sk-toggleable__label sk-toggleable__label-arrow\">estimator: KNeighborsClassifier</label><div class=\"sk-toggleable__content\"><pre>KNeighborsClassifier(metric=&#x27;jaccard&#x27;, n_jobs=-1)</pre></div></div></div><div class=\"sk-serial\"><div class=\"sk-item\"><div class=\"sk-estimator sk-toggleable\"><input class=\"sk-toggleable__control sk-hidden--visually\" id=\"sk-estimator-id-3\" type=\"checkbox\" ><label for=\"sk-estimator-id-3\" class=\"sk-toggleable__label sk-toggleable__label-arrow\">KNeighborsClassifier</label><div class=\"sk-toggleable__content\"><pre>KNeighborsClassifier(metric=&#x27;jaccard&#x27;, n_jobs=-1)</pre></div></div></div></div></div></div></div></div></div></div>"
            ]
          },
          "metadata": {},
          "execution_count": 41
        }
      ]
    },
    {
      "cell_type": "code",
      "source": [
        "print(f\"Optimal number of neighbors: {cv.best_params_['n_neighbors']}\")"
      ],
      "metadata": {
        "colab": {
          "base_uri": "https://localhost:8080/"
        },
        "id": "ldYSnIUWw_cF",
        "outputId": "8c1853f8-16dc-4b58-ef1c-2d5a63d80f32"
      },
      "execution_count": null,
      "outputs": [
        {
          "output_type": "stream",
          "name": "stdout",
          "text": [
            "Optimal number of neighbors: 10\n"
          ]
        }
      ]
    },
    {
      "cell_type": "markdown",
      "source": [
        "roc_auc_score = roc_auc_score(y_test, cv.predict(X_test))"
      ],
      "metadata": {
        "id": "5MXmPNfgy-aL"
      }
    },
    {
      "cell_type": "code",
      "source": [
        "print(roc_auc_score)"
      ],
      "metadata": {
        "colab": {
          "base_uri": "https://localhost:8080/"
        },
        "id": "8Sa_naTl0CRS",
        "outputId": "40344b0f-a856-40cb-b877-de9936187cd6"
      },
      "execution_count": null,
      "outputs": [
        {
          "output_type": "stream",
          "name": "stdout",
          "text": [
            "0.5756677417485853\n"
          ]
        }
      ]
    },
    {
      "cell_type": "markdown",
      "metadata": {
        "id": "bhlQIaagvsng"
      },
      "source": [
        "Sądząc po tym ile wynosi fit(0.1 s), a ile predykcja(100 s) można się domyślić, że nie została zbudowana żadna struktura danych. Wynik predykcji ma się całkiem słabo do oficjalnego leaderboardu :(."
      ]
    },
    {
      "cell_type": "markdown",
      "metadata": {
        "id": "rc6ElTFNvsnh"
      },
      "source": [
        "**Zadanie 5 (1.5 punktu)**\n",
        "\n",
        "*Klasyfikacja z metryką Jaccarda*\n",
        "\n",
        "1. Stwórz pipeline do klasyfikacji ANN z użyciem PyNNDescent. Wykorzystaj metrykę Jaccarda i znalezioną wcześniej optymalną liczbę sąsiadów.\n",
        "2. Wytrenuj zwykłe kNN oraz ANN oraz dokonaj predykcji. Zmierz czas oraz dokładność obu metod. Czy twoim zdaniem warto dokonać w tym wypadku takiej aproksymacji?"
      ]
    },
    {
      "cell_type": "code",
      "execution_count": null,
      "metadata": {
        "id": "HNGVItrtvsnh",
        "colab": {
          "base_uri": "https://localhost:8080/"
        },
        "outputId": "180d09b5-2ead-4964-b67f-957ac8b138d8"
      },
      "outputs": [
        {
          "output_type": "stream",
          "name": "stdout",
          "text": [
            "Scikit-learn training time: 0.11\n",
            "PyNNDescent training time: 59.92\n",
            "\n",
            "Scikit-learn prediction time: 106.50\n",
            "PyNNDescent prediction time: 2.58\n",
            "\n",
            "Scikit-learn F1: 61.45%\n",
            "PyNNDescent F1: 60.30%\n"
          ]
        }
      ],
      "source": [
        "clf = KNeighborsClassifier(metric=\"jaccard\", n_neighbors=10)\n",
        "\n",
        "pynndescent_ann = make_pipeline(\n",
        "    PyNNDescentTransformer(metric=\"jaccard\", random_state=0),\n",
        "    KNeighborsClassifier(metric=\"precomputed\", n_neighbors=10),\n",
        ")\n",
        "\n",
        "benchmark_knn_and_ann(clf, pynndescent_ann, X_train, X_test, y_train, y_test)"
      ]
    },
    {
      "cell_type": "markdown",
      "source": [
        "ANN działa 50(i to na małych danych) razy szybciej tracąc tylko 1% dokładności. Oszczędność czasu jaką możemy uzyskać jest ogromna, więc moim zdaniem warto ANN"
      ],
      "metadata": {
        "id": "pe0aKYM32lzO"
      }
    },
    {
      "cell_type": "markdown",
      "metadata": {
        "id": "Rq-5_Ervvsnh"
      },
      "source": [
        "## Wyszukiwanie z pomocą najbliższych sąsiadów"
      ]
    },
    {
      "cell_type": "markdown",
      "metadata": {
        "id": "v4aMKQSOvsnh"
      },
      "source": [
        "Naszym ostatnim zastosowaniem metod opartych o sąsiedztwo będzie wyszukiwanie przedmiotów. Konkretnie stworzymy wyszukiwarkę obrazów na podstawie wpisanego hasła.\n",
        "\n",
        "Jest to zadanie **multimodalne (multimodal)**, bo operujemy na dwóch różnych modalnościach: obrazie i tekście. Takie wyszukiwarki działają następująco:\n",
        "1. W fazie treningu przedmioty (obrazy) są wektoryzowane siecią neuronową i przechowywane w indeksie.\n",
        "2. Użytkownik wpisuje tekst, który jest wektoryzowany za pomocą tej samej sieci neuronowej, dlatego musi być ona multimodalna.\n",
        "3. Wyszukujemy najbliższych sąsiadów (obrazy-wektory) dla tekstu-wektora.\n",
        "\n",
        "Najbardziej znanym modelem multimodalnym jest [CLIP](https://openai.com/research/clip), stworzony przez OpenAI. Jego architektura i wagi są dostępne publicznie, w przeciwieństwie do nowych rozwiązań tej firmy. Jest to model zasadniczo niewymagający fine-tuningu, działa bardzo dobrze w podstawowej formie dla wielu zadań. Został też wykorzystany jako element modelu [DALL-E 2](https://openai.com/product/dall-e-2).\n",
        "\n",
        "Nie musisz szczegółowo wiedzieć, jak działa ten model, ale pewne podstawy są bardzo ciekawe i przydatne. Dla zainteresowanych [cały artykuł](https://cdn.openai.com/papers/Learning_Transferable_Visual_Models_From_Natural_Language.pdf) - ale ostrzegam, że jest dość zaawansowany. Wysokopoziomowo architekturę dobrze opisuje [ten artykuł](https://towardsdatascience.com/clip-the-most-influential-ai-model-from-openai-and-how-to-use-it-f8ee408958b1). CLIP składa się z dwóch enkoderów: dla tekstu i dla obrazu. Są to zwykłe pre-trenowane sieci, a konkretnie:\n",
        "1. Dla obrazu - [Visual Transformer (ViT)](https://www.v7labs.com/blog/vision-transformer-guide). Jest to architektura, która używa transformerów i atencji do przetwarzania obrazów. Ideą jest, żeby pociąć obraz na sąsiadujące kawałki (patches), i traktować je jak słowa dla atencji.\n",
        "2. Dla tekstu - [Transformer](https://machinelearningmastery.com/the-transformer-model/), z pewnymi modyfikacjami.\n",
        "\n",
        "Każda z tych sieci wektoryzuje wejście, dając embedding.\n",
        "\n",
        "![CLIP](clip.png)\n",
        "\n",
        "Zbiorem danych była kolekcja 400 milionów par (obraz, tekst), gdzie tekst opisywał zawartość obrazu. Następnie wykonano **constrastive pre-training** - model dostaje batch $N$ par (obraz, tekst) i ma przewidzieć, które z $N \\times N$ możliwych kombinacji (obraz, tekst) faktycznie wystąpiły. W tym celu maksymalizuje podobieństwo cosinusowe par, które wystąpiły w batchu, a minimalizuje podobieństwo dla $N^2 - N$ możliwych kombinacji, których nie było w batchu. W tym celu jest używana entropia krzyżowa z pewnymi modyfikacjami.\n",
        "\n",
        "Widać więc, że model jest nienadzorowany, a zbiór danych był ogromny, więc fine-tuning nie jest nam zasadniczo potrzebny. Można go użyć do klasyfikacji, ale tym nie będziemy się zajmować. Dodatkowo odpowiednią metryką odległości dla najbliższych sąsiadów będzie podobieństwo cosinusowe.\n",
        "\n",
        "Biblioteka [Sentence-Transformers](https://www.sbert.net/index.html) powstała dla różnych modeli transformerowych do zadań nienadzorowanych, ale dodano do niej także bardzo wygodny interfejs dla modelu CLIP - [przykład użycia](https://www.sbert.net/examples/applications/image-search/README.html). \n",
        "\n",
        "Jako zbiór wykorzystamy [Amazon Berkeley Objects (ABO) Dataset](https://amazon-berkeley-objects.s3.amazonaws.com/index.html) - zbiór obrazów produktów Amazona, stworzony we współpracy z University of California, Berkeley. Wykorzystamy [zminiaturyzowany zbiór](https://amazon-berkeley-objects.s3.amazonaws.com/archives/abo-images-small.tar), w którym obrazy mają rozmiar 256x256 pikseli, bo na nasze potrzeby jest zupełnie wystarczający."
      ]
    },
    {
      "cell_type": "markdown",
      "metadata": {
        "id": "1MUBR_I5vsnh"
      },
      "source": [
        "**Zadanie 6 (3 punkty)**\n",
        "\n",
        "*Wyszukiwarka z ANN*\n",
        "\n",
        "1. Ściągnij [zbiór danych](https://amazon-berkeley-objects.s3.amazonaws.com/archives/abo-images-small.tar). Rozpakuj go obok tego notebooka. W katalogu `images/metadata` znajdziesz plik `images.csv.gz` - rozpakuj go obok tego notebooka, zawiera on ścieżki do obrazów.\n",
        "2. Uzupełnij kod funkcji `vectorize_images`, która oblicza embeddingi obrazów za pomocą modelu CLIP. Przyda ci się [ten tutorial](https://www.sbert.net/examples/applications/image-search/README.html). Ustaw wartość MAX_IMAGES tak, żeby wystarczyło ci RAMu i żeby proces trwał rozsądną ilość czasu (ale co najmniej kilka-kilkanaście minut). `start_idx` oraz `end_idx` to indeksy wierszy, na których w danej chwili operujemy - po prostu przesuwamy się o `BATCH_SIZE` w pętli for.\n",
        "3. Uzupełnij kod klasy `ImageSearch`:\n",
        "  - w konstruktorze stwórz indeks za pomocą klasy [NNDescent](https://pynndescent.readthedocs.io/en/latest/api.html#pynndescent.pynndescent_.NNDescent), korzystając z metryki cosinusowej i `random_state=0`, może się też przydać `n_jobs=-1`\n",
        "  - w metodzie `query` zwektoryzuj zapytanie tekstowe, a następ wyszukaj indeksy najbliższych sąsiadów-obrazów w indeksie (zwróć uwagę na to, co zwraca metoda `.query()` dla `NNDescent`), a następnie zwróć ścieżki do ich obrazów; zwróć uwagę na to, że `.query()` wymaga 2-wymiarowego wejścia, więc w naszym wypadku `(1, 512)`\n",
        "  - w metodzie `show_images` załaduj i wyświetl obrazy; może się przydać [ten przykład](https://matplotlib.org/stable/gallery/axes_grid1/simple_axesgrid.html)\n",
        "4. Przetestuj wyszukiwarkę kilkoma hasłami (metoda `.search()`). Prawdopodobnie najlepiej zadziałają hasła odpowiadające typowym produktom sprzedawanym w Amazonie.\n",
        "5. Jakie widzisz zalety i wady takiego podejścia do wyszukiwania?\n",
        "\n",
        "**Uwaga:** jeżeli masz mało RAMu lub pracujesz na Google Colab, to warto zrestartować Jupyter Notebooka, zamykając kernel. Zwolni ci to pamięć. Możesz też usunąć macierz z embeddingami (`del embeddings`) kiedy stworzysz indeks w konstruktorze `ImageSearch`."
      ]
    },
    {
      "cell_type": "code",
      "source": [
        "from google.colab import files\n",
        "uploaded = files.upload()"
      ],
      "metadata": {
        "colab": {
          "base_uri": "https://localhost:8080/",
          "height": 39
        },
        "id": "GB7uvMix-hpq",
        "outputId": "16e063bc-dac5-4464-dd78-fe0962f6b0aa"
      },
      "execution_count": null,
      "outputs": [
        {
          "output_type": "display_data",
          "data": {
            "text/plain": [
              "<IPython.core.display.HTML object>"
            ],
            "text/html": [
              "\n",
              "     <input type=\"file\" id=\"files-d2fdb4dd-44eb-46fe-b7a3-b72338b7aa66\" name=\"files[]\" multiple disabled\n",
              "        style=\"border:none\" />\n",
              "     <output id=\"result-d2fdb4dd-44eb-46fe-b7a3-b72338b7aa66\">\n",
              "      Upload widget is only available when the cell has been executed in the\n",
              "      current browser session. Please rerun this cell to enable.\n",
              "      </output>\n",
              "      <script>// Copyright 2017 Google LLC\n",
              "//\n",
              "// Licensed under the Apache License, Version 2.0 (the \"License\");\n",
              "// you may not use this file except in compliance with the License.\n",
              "// You may obtain a copy of the License at\n",
              "//\n",
              "//      http://www.apache.org/licenses/LICENSE-2.0\n",
              "//\n",
              "// Unless required by applicable law or agreed to in writing, software\n",
              "// distributed under the License is distributed on an \"AS IS\" BASIS,\n",
              "// WITHOUT WARRANTIES OR CONDITIONS OF ANY KIND, either express or implied.\n",
              "// See the License for the specific language governing permissions and\n",
              "// limitations under the License.\n",
              "\n",
              "/**\n",
              " * @fileoverview Helpers for google.colab Python module.\n",
              " */\n",
              "(function(scope) {\n",
              "function span(text, styleAttributes = {}) {\n",
              "  const element = document.createElement('span');\n",
              "  element.textContent = text;\n",
              "  for (const key of Object.keys(styleAttributes)) {\n",
              "    element.style[key] = styleAttributes[key];\n",
              "  }\n",
              "  return element;\n",
              "}\n",
              "\n",
              "// Max number of bytes which will be uploaded at a time.\n",
              "const MAX_PAYLOAD_SIZE = 100 * 1024;\n",
              "\n",
              "function _uploadFiles(inputId, outputId) {\n",
              "  const steps = uploadFilesStep(inputId, outputId);\n",
              "  const outputElement = document.getElementById(outputId);\n",
              "  // Cache steps on the outputElement to make it available for the next call\n",
              "  // to uploadFilesContinue from Python.\n",
              "  outputElement.steps = steps;\n",
              "\n",
              "  return _uploadFilesContinue(outputId);\n",
              "}\n",
              "\n",
              "// This is roughly an async generator (not supported in the browser yet),\n",
              "// where there are multiple asynchronous steps and the Python side is going\n",
              "// to poll for completion of each step.\n",
              "// This uses a Promise to block the python side on completion of each step,\n",
              "// then passes the result of the previous step as the input to the next step.\n",
              "function _uploadFilesContinue(outputId) {\n",
              "  const outputElement = document.getElementById(outputId);\n",
              "  const steps = outputElement.steps;\n",
              "\n",
              "  const next = steps.next(outputElement.lastPromiseValue);\n",
              "  return Promise.resolve(next.value.promise).then((value) => {\n",
              "    // Cache the last promise value to make it available to the next\n",
              "    // step of the generator.\n",
              "    outputElement.lastPromiseValue = value;\n",
              "    return next.value.response;\n",
              "  });\n",
              "}\n",
              "\n",
              "/**\n",
              " * Generator function which is called between each async step of the upload\n",
              " * process.\n",
              " * @param {string} inputId Element ID of the input file picker element.\n",
              " * @param {string} outputId Element ID of the output display.\n",
              " * @return {!Iterable<!Object>} Iterable of next steps.\n",
              " */\n",
              "function* uploadFilesStep(inputId, outputId) {\n",
              "  const inputElement = document.getElementById(inputId);\n",
              "  inputElement.disabled = false;\n",
              "\n",
              "  const outputElement = document.getElementById(outputId);\n",
              "  outputElement.innerHTML = '';\n",
              "\n",
              "  const pickedPromise = new Promise((resolve) => {\n",
              "    inputElement.addEventListener('change', (e) => {\n",
              "      resolve(e.target.files);\n",
              "    });\n",
              "  });\n",
              "\n",
              "  const cancel = document.createElement('button');\n",
              "  inputElement.parentElement.appendChild(cancel);\n",
              "  cancel.textContent = 'Cancel upload';\n",
              "  const cancelPromise = new Promise((resolve) => {\n",
              "    cancel.onclick = () => {\n",
              "      resolve(null);\n",
              "    };\n",
              "  });\n",
              "\n",
              "  // Wait for the user to pick the files.\n",
              "  const files = yield {\n",
              "    promise: Promise.race([pickedPromise, cancelPromise]),\n",
              "    response: {\n",
              "      action: 'starting',\n",
              "    }\n",
              "  };\n",
              "\n",
              "  cancel.remove();\n",
              "\n",
              "  // Disable the input element since further picks are not allowed.\n",
              "  inputElement.disabled = true;\n",
              "\n",
              "  if (!files) {\n",
              "    return {\n",
              "      response: {\n",
              "        action: 'complete',\n",
              "      }\n",
              "    };\n",
              "  }\n",
              "\n",
              "  for (const file of files) {\n",
              "    const li = document.createElement('li');\n",
              "    li.append(span(file.name, {fontWeight: 'bold'}));\n",
              "    li.append(span(\n",
              "        `(${file.type || 'n/a'}) - ${file.size} bytes, ` +\n",
              "        `last modified: ${\n",
              "            file.lastModifiedDate ? file.lastModifiedDate.toLocaleDateString() :\n",
              "                                    'n/a'} - `));\n",
              "    const percent = span('0% done');\n",
              "    li.appendChild(percent);\n",
              "\n",
              "    outputElement.appendChild(li);\n",
              "\n",
              "    const fileDataPromise = new Promise((resolve) => {\n",
              "      const reader = new FileReader();\n",
              "      reader.onload = (e) => {\n",
              "        resolve(e.target.result);\n",
              "      };\n",
              "      reader.readAsArrayBuffer(file);\n",
              "    });\n",
              "    // Wait for the data to be ready.\n",
              "    let fileData = yield {\n",
              "      promise: fileDataPromise,\n",
              "      response: {\n",
              "        action: 'continue',\n",
              "      }\n",
              "    };\n",
              "\n",
              "    // Use a chunked sending to avoid message size limits. See b/62115660.\n",
              "    let position = 0;\n",
              "    do {\n",
              "      const length = Math.min(fileData.byteLength - position, MAX_PAYLOAD_SIZE);\n",
              "      const chunk = new Uint8Array(fileData, position, length);\n",
              "      position += length;\n",
              "\n",
              "      const base64 = btoa(String.fromCharCode.apply(null, chunk));\n",
              "      yield {\n",
              "        response: {\n",
              "          action: 'append',\n",
              "          file: file.name,\n",
              "          data: base64,\n",
              "        },\n",
              "      };\n",
              "\n",
              "      let percentDone = fileData.byteLength === 0 ?\n",
              "          100 :\n",
              "          Math.round((position / fileData.byteLength) * 100);\n",
              "      percent.textContent = `${percentDone}% done`;\n",
              "\n",
              "    } while (position < fileData.byteLength);\n",
              "  }\n",
              "\n",
              "  // All done.\n",
              "  yield {\n",
              "    response: {\n",
              "      action: 'complete',\n",
              "    }\n",
              "  };\n",
              "}\n",
              "\n",
              "scope.google = scope.google || {};\n",
              "scope.google.colab = scope.google.colab || {};\n",
              "scope.google.colab._files = {\n",
              "  _uploadFiles,\n",
              "  _uploadFilesContinue,\n",
              "};\n",
              "})(self);\n",
              "</script> "
            ]
          },
          "metadata": {}
        }
      ]
    },
    {
      "cell_type": "code",
      "execution_count": null,
      "metadata": {
        "id": "S0fKFmCuvsni"
      },
      "outputs": [],
      "source": [
        "# prepare pd.Series with paths to images\n",
        "image_paths = pd.read_csv(\"/content/drive/MyDrive/images.csv\")\n",
        "\n",
        "# \"height\" and \"width\" are original image size, let's select\n",
        "# only large ones - they are probably more interesting\n",
        "mask = (image_paths[\"height\"] >= 1000) & (image_paths[\"width\"] >= 1000)\n",
        "image_paths = image_paths.loc[mask, :]\n",
        "\n",
        "# remove columns, leaving only pd.Series with paths\n",
        "image_paths = image_paths[\"path\"]\n",
        "image_paths = \"images/small/\" + image_paths.astype(str)\n",
        "\n",
        "image_paths"
      ]
    },
    {
      "cell_type": "code",
      "execution_count": null,
      "metadata": {
        "id": "23r-r7kTvsni"
      },
      "outputs": [],
      "source": [
        "from itertools import islice\n",
        "\n",
        "import joblib\n",
        "import torch\n",
        "from PIL import Image\n",
        "from sentence_transformers import SentenceTransformer\n",
        "from tqdm.notebook import tqdm\n",
        "\n",
        "\n",
        "MAX_IMAGES = 10000\n",
        "BATCH_SIZE = joblib.cpu_count(only_physical_cores=True)\n",
        "\n",
        "\n",
        "def vectorize_images(\n",
        "    image_paths: pd.Series\n",
        ") -> np.ndarray:\n",
        "    device = \"cuda\" if torch.cuda.is_available() else \"cpu\"\n",
        "    model = SentenceTransformer(\"clip-ViT-B-32\", device=device)\n",
        "    \n",
        "    # batch iterator, based on Python itertools example\n",
        "    def batched(iterable, n: int):\n",
        "        it = iter(iterable)\n",
        "        while (batch := tuple(islice(it, n))):\n",
        "            yield batch\n",
        "    \n",
        "    # CLIP embeddings have 512 dimensions\n",
        "    embeddings = np.empty((MAX_IMAGES, 512))\n",
        "    \n",
        "    # iterate with tqdm, it will give us a nice progress bar\n",
        "    with tqdm(total=MAX_IMAGES) as pbar:\n",
        "        start_idx = 0\n",
        "        for batch in batched(image_paths.iloc[:MAX_IMAGES], BATCH_SIZE):\n",
        "            # update end_idx; remember to stop at MAX_IMAGES!\n",
        "            end_idx = max(start_idx + BATCH_SIZE, MAX_IMAGES)\n",
        "\n",
        "            # load images with Image.open()\n",
        "            images = [Image.open(filepath) for filepath in batch]\n",
        "            \n",
        "            # calculate embeddings\n",
        "            emb = model.encode(images, convert_to_tensor=True)\n",
        "\n",
        "            # save embeddings in the embeddings array\n",
        "            \n",
        "            \n",
        "            # update start_idx\n",
        "            \n",
        "\n",
        "            pbar.update(BATCH_SIZE)\n",
        "    \n",
        "    return embeddings\n"
      ]
    },
    {
      "cell_type": "code",
      "execution_count": null,
      "metadata": {
        "id": "WGFTJMzsvsni"
      },
      "outputs": [],
      "source": [
        "embeddings = vectorize_images(image_paths)"
      ]
    },
    {
      "cell_type": "code",
      "execution_count": null,
      "metadata": {
        "id": "YQTD3QZjvsni"
      },
      "outputs": [],
      "source": [
        "from pynndescent import NNDescent\n",
        "\n",
        "\n",
        "class ImageSearch:\n",
        "    def __init__(self, image_paths: pd.Series, embeddings: np.ndarray):\n",
        "        # change to Numpy array to avoid .iloc[] and just index with []\n",
        "        self.image_paths = image_paths.values\n",
        "        \n",
        "        device = \"cuda\" if torch.cuda.is_available() else \"cpu\"\n",
        "        self.model = SentenceTransformer(\"clip-ViT-B-32\", device=device)\n",
        "        \n",
        "        # create PyNNDescent index\n",
        "        self.index = ...\n",
        "\n",
        "    def search(self, text: str, n_neighbors: int = 9) -> None:\n",
        "        image_paths = self.query(text, n_neighbors)\n",
        "        self.show(image_paths)\n",
        "        \n",
        "    def query(self, text: str, n_neighbors: int = 9) -> list[str]:\n",
        "        ...\n",
        "\n",
        "    def show(self, image_paths: list[str]) -> None:\n",
        "        ...\n"
      ]
    },
    {
      "cell_type": "code",
      "execution_count": null,
      "metadata": {
        "id": "RuLCLzNXvsnj"
      },
      "outputs": [],
      "source": [
        "image_search = ImageSearch(image_paths, embeddings)"
      ]
    },
    {
      "cell_type": "code",
      "execution_count": null,
      "metadata": {
        "id": "yuO4YYDrvsnj"
      },
      "outputs": [],
      "source": [
        "image_search.search(\"blue pillow\")"
      ]
    },
    {
      "cell_type": "markdown",
      "metadata": {
        "id": "Qv2NUhawvsnj"
      },
      "source": [
        "// skomentuj tutaj"
      ]
    },
    {
      "cell_type": "code",
      "execution_count": null,
      "metadata": {
        "id": "v9w0oEEJvsnk"
      },
      "outputs": [],
      "source": []
    }
  ],
  "metadata": {
    "kernelspec": {
      "display_name": "PUM",
      "language": "python",
      "name": "pum"
    },
    "language_info": {
      "codemirror_mode": {
        "name": "ipython",
        "version": 3
      },
      "file_extension": ".py",
      "mimetype": "text/x-python",
      "name": "python",
      "nbconvert_exporter": "python",
      "pygments_lexer": "ipython3",
      "version": "3.10.9"
    },
    "colab": {
      "provenance": []
    }
  },
  "nbformat": 4,
  "nbformat_minor": 0
}